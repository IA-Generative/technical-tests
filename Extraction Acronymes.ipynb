{
 "cells": [
  {
   "cell_type": "code",
   "execution_count": 1,
   "id": "a0bede8a-c8f1-4e4f-9cb0-68d1cfd05ebd",
   "metadata": {},
   "outputs": [],
   "source": [
    "# Credits : \n",
    "# https://github.com/lovelynrose/chatgpt/blob/main/mapreduce_keyword_extract.ipynb"
   ]
  },
  {
   "cell_type": "code",
   "execution_count": 2,
   "id": "cf671e08",
   "metadata": {},
   "outputs": [],
   "source": [
    "from langchain import PromptTemplate\n",
    "# from langchain.chat_models import ChatOpenAI\n",
    "from langchain_openai import ChatOpenAI\n",
    "from langchain.chains.mapreduce import MapReduceChain\n",
    "from langchain.text_splitter import CharacterTextSplitter\n",
    "from langchain.chains import ReduceDocumentsChain, MapReduceDocumentsChain, StuffDocumentsChain\n",
    "from langchain.chains import LLMChain\n",
    "from langchain.output_parsers import CommaSeparatedListOutputParser\n",
    "from langchain.docstore.document import Document\n",
    "import os\n",
    "# import promptlayer\n",
    "import pandas as pd"
   ]
  },
  {
   "cell_type": "code",
   "execution_count": 3,
   "id": "ff23c932-98f2-41f8-a581-9ddabbb80d3b",
   "metadata": {},
   "outputs": [],
   "source": [
    "from pathlib import Path\n",
    "import json"
   ]
  },
  {
   "cell_type": "code",
   "execution_count": 4,
   "id": "a0f19934-a308-4435-983d-9286b2e70d19",
   "metadata": {},
   "outputs": [
    {
     "data": {
      "text/plain": [
       "'0.1.7'"
      ]
     },
     "execution_count": 4,
     "metadata": {},
     "output_type": "execute_result"
    }
   ],
   "source": [
    "import langchain\n",
    "langchain.__version__"
   ]
  },
  {
   "cell_type": "markdown",
   "id": "9b414bc3",
   "metadata": {},
   "source": [
    "# Parameters"
   ]
  },
  {
   "cell_type": "code",
   "execution_count": 5,
   "id": "eec6be5c-ed99-45e1-ad15-506f397c5cd4",
   "metadata": {},
   "outputs": [
    {
     "name": "stdout",
     "output_type": "stream",
     "text": [
      "env: OPENAI_API_BASE=https://api-vicuna.c0.ns1lab.net/v1\n"
     ]
    }
   ],
   "source": [
    "%env OPENAI_API_BASE=https://api-vicuna.c0.ns1lab.net/v1"
   ]
  },
  {
   "cell_type": "code",
   "execution_count": 6,
   "id": "6e4bbc23-d5f6-46be-b0a0-f6c5fb8caf2a",
   "metadata": {},
   "outputs": [
    {
     "name": "stdout",
     "output_type": "stream",
     "text": [
      "env: OPENAI_API_KEY=\"\"\n"
     ]
    }
   ],
   "source": [
    "%env OPENAI_API_KEY=\"\""
   ]
  },
  {
   "cell_type": "code",
   "execution_count": 7,
   "id": "54a62280-c15d-4062-9b74-0bd845428a77",
   "metadata": {},
   "outputs": [
    {
     "name": "stdout",
     "output_type": "stream",
     "text": [
      "env: LANGCHAIN_TRACING_V2=true\n"
     ]
    }
   ],
   "source": [
    "%env LANGCHAIN_TRACING_V2=true"
   ]
  },
  {
   "cell_type": "code",
   "execution_count": 8,
   "id": "e6716ac8-08b2-4f9b-a194-eb2c27f74054",
   "metadata": {},
   "outputs": [
    {
     "name": "stdout",
     "output_type": "stream",
     "text": [
      "env: LANGCHAIN_ENDPOINT=https://api.smith.langchain.com\n"
     ]
    }
   ],
   "source": [
    "%env LANGCHAIN_ENDPOINT=https://api.smith.langchain.com"
   ]
  },
  {
   "cell_type": "code",
   "execution_count": 9,
   "id": "5ca46d9c-79c7-4a52-ac5c-0f9a137ea6ff",
   "metadata": {},
   "outputs": [
    {
     "name": "stdout",
     "output_type": "stream",
     "text": [
      "env: LANGCHAIN_API_KEY=ls__7e5ee574b4a6433dafbfcf90b4caad92\n"
     ]
    }
   ],
   "source": [
    "%env LANGCHAIN_API_KEY=ls__7e5ee574b4a6433dafbfcf90b4caad92"
   ]
  },
  {
   "cell_type": "code",
   "execution_count": 10,
   "id": "f5b5ab1f-4ee8-42a2-9a47-ead6ef7a323f",
   "metadata": {},
   "outputs": [
    {
     "name": "stdout",
     "output_type": "stream",
     "text": [
      "env: LANGCHAIN_PROJECT=keyword-extraction\n"
     ]
    }
   ],
   "source": [
    "%env LANGCHAIN_PROJECT=keyword-extraction"
   ]
  },
  {
   "cell_type": "code",
   "execution_count": 11,
   "id": "b992ef32-6e67-4bd6-bdf1-8acb687737e2",
   "metadata": {},
   "outputs": [],
   "source": [
    "llm = ChatOpenAI(temperature=0) #model_kwargs={\"batch_size\":1}"
   ]
  },
  {
   "cell_type": "code",
   "execution_count": 12,
   "id": "326720b2",
   "metadata": {},
   "outputs": [],
   "source": [
    "DATA_PATH = Path(\"/iga-bf\")"
   ]
  },
  {
   "cell_type": "code",
   "execution_count": 13,
   "id": "b9c50b36-7a49-4799-87ce-e55a6b7d56c8",
   "metadata": {},
   "outputs": [],
   "source": [
    "# from langsmith import Client\n",
    "# import os\n",
    "# client = Client()\n",
    "# try:\n",
    "#     client.delete_project(project_name=os.environ['LANGCHAIN_PROJECT'])\n",
    "# except:\n",
    "#     pass"
   ]
  },
  {
   "cell_type": "markdown",
   "id": "1d6d8eed-d450-4f7d-b4a3-63ebae154961",
   "metadata": {},
   "source": [
    "# Read Data in from json documents"
   ]
  },
  {
   "cell_type": "markdown",
   "id": "3a1533b4",
   "metadata": {},
   "source": [
    "The Instagram posts that we are attempting to classify are contained within a CSV file. These will be read into an array of post captions."
   ]
  },
  {
   "cell_type": "code",
   "execution_count": 14,
   "id": "c2a05f98-4663-4085-8590-75098c74d6e4",
   "metadata": {},
   "outputs": [],
   "source": [
    "corpus = []\n",
    "for doc in DATA_PATH.glob('**/*.json'):\n",
    "    with doc.open(encoding=\"UTF-8\") as source:\n",
    "         corpus.append(json.load(source))"
   ]
  },
  {
   "cell_type": "code",
   "execution_count": 15,
   "id": "9b8da778-0fac-4136-9f49-a3ed3de46955",
   "metadata": {},
   "outputs": [],
   "source": [
    "df = pd.DataFrame(corpus)"
   ]
  },
  {
   "cell_type": "code",
   "execution_count": 16,
   "id": "6ffc500f",
   "metadata": {},
   "outputs": [],
   "source": [
    "docs = [Document(page_content=row['content'], \n",
    "                       metadata=row[['title','author']]) for _,row in df.iterrows()]"
   ]
  },
  {
   "cell_type": "markdown",
   "id": "5428c427",
   "metadata": {},
   "source": [
    "# Map Prompt and Chain"
   ]
  },
  {
   "cell_type": "markdown",
   "id": "9edd527f",
   "metadata": {},
   "source": [
    "The following prompt is used to develop the \"map\" step of the Map-Reduce chain. This prompt is run on each individual post, and is used to extract a set of \"topics\" local to that post. "
   ]
  },
  {
   "cell_type": "code",
   "execution_count": 143,
   "id": "d06761a8",
   "metadata": {},
   "outputs": [],
   "source": [
    "# Map Prompt \n",
    "# What should be done. Eg. Find technical words, summarise etc \n",
    "map_template = \"\"\"Tu dois extraire les acronymes dans le texte délimité par ```\n",
    "Sous la forme d'une liste qui contient l'acronyme et sa signification.\n",
    "\n",
    "Les acronymes sont toujours entre () ou entre \"\" et en majuscule. Leur signification n'est souvent pas loin.\n",
    "\n",
    "```{docs}```\n",
    "\n",
    "\"\"\" \n",
    "# from_template creates instance of PromptTemplate \n",
    "# Pass template string \n",
    "map_prompt = PromptTemplate.from_template(map_template) \n",
    "# Sequential Chain \n",
    "map_chain = LLMChain(llm=llm, prompt=map_prompt,verbose=True) "
   ]
  },
  {
   "cell_type": "markdown",
   "id": "1e03e35f",
   "metadata": {},
   "source": [
    "# Reduce Prompt and Chain"
   ]
  },
  {
   "cell_type": "markdown",
   "id": "5dc49875",
   "metadata": {},
   "source": [
    "The following prompt is for the \"reduce\" step of the algorithm. It operates against the entire set of output that is produced by the \"map\" chain. In our example, the map chain yields a set of topics that are defined on the caption it was run on. These are then grouped together and passed as a result to this reduce chain. This reduce chain is designed to take this global output of the map step and reduce it down to a final set of unique fertility topics that minimized contextual overlap."
   ]
  },
  {
   "cell_type": "code",
   "execution_count": 144,
   "id": "853703b1",
   "metadata": {},
   "outputs": [],
   "source": [
    "# Reduce Prompt \n",
    "# Pass the words picked from each document in map phase and make a single list \n",
    "# The word \"distill\" informs to keep only the most required \n",
    "reduce_template = \"\"\"Ce qui suit est une liste d'acronymes avec leur signification: \n",
    "\n",
    "{doc_keywords}\n",
    "\n",
    "Réalise les étapes intermédiaires suivantes : \n",
    "1. Elimine la ligne si la première lettre de chacun des mots qui compose la signification ne correspond pas avec l'acronyme.\n",
    "1. Nettoie la liste pour qu'elle soit sous la forme acronyme : signification.\n",
    "2. Elimine les doublons\n",
    "\n",
    "Puis retourne la liste\n",
    "\"\"\"\n",
    "reduce_prompt = PromptTemplate.from_template(reduce_template) \n",
    "reduce_chain = LLMChain(llm=llm, prompt=reduce_prompt, verbose=True) \n",
    "# Takes a list of documents, combines them into a single string, and passes this to an LLMChain \n",
    "# Pass Variable name in the LLM chain to put the documents in \n",
    "# Combines documents by stuffing into context. \n",
    "combine_documents_chain = StuffDocumentsChain(llm_chain=reduce_chain, document_variable_name=\"doc_keywords\",verbose=True) \n",
    "# Combines and iteratively reduces the mapped documents \n",
    "reduce_documents_chain = ReduceDocumentsChain( # Output of this chain is final result \n",
    "    combine_documents_chain=combine_documents_chain, # If documents exceed context for `StuffDocumentsChain` \n",
    "    collapse_documents_chain=combine_documents_chain, # The maximum number of tokens to group documents into. \n",
    "    token_max=3000,\n",
    "    verbose=True\n",
    ") "
   ]
  },
  {
   "cell_type": "code",
   "execution_count": 145,
   "id": "d9cf9b82-7597-4c0d-9ab1-30b70e7b6a1d",
   "metadata": {},
   "outputs": [],
   "source": [
    "# Combining documents by mapping a chain over them, then combining results \n",
    "map_reduce_chain = MapReduceDocumentsChain( # Map chain \n",
    "    llm_chain=map_chain, # Reduce chain \n",
    "    reduce_documents_chain=reduce_documents_chain, # The variable name in the llm_chain to put the documents in \n",
    "    document_variable_name=\"docs\", # Return the results of the map steps in the output \n",
    "    return_intermediate_steps=False,\n",
    "    verbose=True) "
   ]
  },
  {
   "cell_type": "markdown",
   "id": "331fe4ab",
   "metadata": {},
   "source": [
    "# Run Map-Reduce Chain"
   ]
  },
  {
   "cell_type": "markdown",
   "id": "66918194",
   "metadata": {},
   "source": [
    "In this step we run the actual MapReduceDocumentsChain, this will then begin to process all of the captions that were read in from the CSV file and perform the \"map\" step on each of them. Once the \"map\" step is completed opn all of them it will then run the final \"reduce\" step and output a final list of topics."
   ]
  },
  {
   "cell_type": "code",
   "execution_count": 146,
   "id": "0d099831",
   "metadata": {
    "scrolled": true
   },
   "outputs": [],
   "source": [
    "from langchain.text_splitter import RecursiveCharacterTextSplitter \n",
    "text_splitter = RecursiveCharacterTextSplitter(chunk_size = 5000, chunk_overlap = 0) #\n",
    "docs_splitted = text_splitter.split_documents(docs)"
   ]
  },
  {
   "cell_type": "code",
   "execution_count": 147,
   "id": "a87e1a95-c8d7-4429-a128-5c014b68342c",
   "metadata": {},
   "outputs": [
    {
     "data": {
      "text/plain": [
       "209"
      ]
     },
     "execution_count": 147,
     "metadata": {},
     "output_type": "execute_result"
    }
   ],
   "source": [
    "len(docs_splitted)"
   ]
  },
  {
   "cell_type": "code",
   "execution_count": 148,
   "id": "d849b1c4-b61d-4783-805b-3f04e14b5241",
   "metadata": {},
   "outputs": [
    {
     "data": {
      "text/plain": [
       "5000"
      ]
     },
     "execution_count": 148,
     "metadata": {},
     "output_type": "execute_result"
    }
   ],
   "source": [
    "len(docs_splitted[0].page_content)"
   ]
  },
  {
   "cell_type": "code",
   "execution_count": 151,
   "id": "5d029852-e232-4a66-86f4-d9ca0ddef61b",
   "metadata": {},
   "outputs": [
    {
     "name": "stdout",
     "output_type": "stream",
     "text": [
      "\n",
      "\n",
      "\u001b[1m> Entering new MapReduceDocumentsChain chain...\u001b[0m\n",
      "\n",
      "\n",
      "\u001b[1m> Entering new LLMChain chain...\u001b[0m\n",
      "Prompt after formatting:\n",
      "\u001b[32;1m\u001b[1;3mTu dois extraire les acronymes dans le texte délimité par ```\n",
      "Sous la forme d'une liste qui contient l'acronyme et sa signification.\n",
      "\n",
      "Les acronymes sont toujours entre () ou entre \"\" et en majuscule. Leur signification n'est souvent pas loin.\n",
      "\n",
      "```BF2018-05-18017R -Eau potable en Guadeloupe.pub Les bonnes feuilles de l’IGA n° 2018‐05 | Juillet 2018 L e service public de l’eau potable en Guadeloupe est en situation de crise sévère, de caractère systémique, avec la multiplication des coupures, générant des risques pour la santé publique et des fortes contraintes économiques. Un plan d’action ambitieux est donc indispensable et urgent. La gravité de la situation appelle une solution forte et globale, avec des mesures devant être efficaces à court terme, mais devant également préserver l’avenir et préparer le retour à une situation normale A la lumière des constats réalisés, le rapport formule six axes de propositions, regroupées au sein d’un plan « Eau Guadeloupe (PEG 2022) », portant sur la réduction des conséquences de la crise de l’eau, la clarification de la gouvernance par la création d’une structure de solidarité, l’amélioration des performances techniques et financières des autorités organisatrices, la suppression des tours d’eau, l’actualisation des schémas d’alimentation en eau potable et la nomination d’un directeur de projet, qui serait l’ensemblier de ce plan Rapport n°18017R Crédit photo : Mission IGA ‐IGF– CGEDD‐ Audit sur l’eau potable en Guadeloupe HAMONGU Texte tapé à la machine HAMONGU Texte tapé à la machine . HAMONGU Texte tapé à la machine HAMONGU Texte tapé à la machine HAMONGU Texte tapé à la machine . Le s b o n n es f eu ill es d e l’I G A Titre du rapport Synthèse du rapport L e service public de l’eau potable en Guadeloupe est en situation de crise sévère, avec la multiplication des tours d’eau et coupures :  un réseau ni entretenu, ni renouvelé depuis des années, avec des pertes de l’ordre de 60 %, des équipements obsolètes, en particulier de régulation et de traitement ;  des infrastructures de base de qualité avec les adductions principales d’eau potable du syndicat intercommunal d’alimentation en eau et d’assainissement (SIAEAG) et d’eau brute du département qui permettent d’assurer une solidarité de l’eau entre la Côte‐au‐vent où se trouve la ressource et la Grande Terre, l’agglo‐ mération pointoise et les îles de la Désirade et des Saintes ;  une méconnaissance du patrimoine, la diversité des propriétaires du réseau constituant des freins majeurs à sa modernisation. Une situation des actifs et des passifs devenue presque inextricable :  avec des budgets des services d’eau exsangues, des capacités d’auto‐financement limitées, voire négatives pour les plus importants, interdisant presque tout investissement (destruction d’épar‐ gne brute estimée à 12 M€/an), concentrée pour l’essentiel sur le SIAEAG et la communauté d’agglomération Cap Excellence, « CAPEX 1 » ;  avec des recettes faibles, malgré un prix moyen de l’eau voisin de la moyenne nationale, s’expli‐ quant par des piquages sauvages, des faiblesses dans le comptage et la facturation, et des taux d’impayés importants (37 % en moyenne contre 2 % en moyenne nationale) et des charges de personnel élevées, malgré un certain sous‐encadrement. Une structuration des compétences en matière d’eau ne répondant ni à une logique hydraulique, ni à une logique d’exploitation, du fait de l’absence d’adéqua‐ tion entre le périmètre de l’autorité organisatrice et le périmètre opérationnel de la structure d’exploitation. Enfin, des dysfonctionnements, comme des non‐ conformités majeures avec la réglementation pouvant conduire à des situations de risque pour la sécurité et la santé publiques, et un syndicat, le SIAEAG, présentant un bilan déséquilibré, avec un total de dettes de l’ordre de 60 M€ pour des créances de l’ordre de 20 M€, avec un budget impacté par des impayés récurrents sur ses ventes en gros d’eau potable à d’autres autorités organisatrices non membres. La gravité de la situation appelle une solution forte et globale, intégrant ces différents aspects, avec des mesures devant être efficaces à court terme, mais de‐ vant également préserver l’avenir et préparer le retour à une situation normale. La mission s’est appuyée sur les plans antérieurs (plan préfectoral de restructuration des compétences en matière d’eau, Plan « Eau DOM », décidé en 2016, plan de 71 M€ présenté en janvier 2018) pour préconiser un plan massif et global, le plan Eau Guadeloupe 2022 (PEG22), avec comme principaux objectifs, le rétablisse‐ ment rapide de l’accès à l’eau potable, l’orientation vers une gestion durable des services publics d’eau potable et la clarification de l’organisation de l’eau et de la situation des actifs et passifs et associant chaque acteur de l’eau. Un plan structuré autour de six axes a été proposé : ‐ réduire les conséquences de la crise de l’eau, en mettant en place les mesures d’accompagnement des restrictions et d’économies d’eau ; ‐ clarifier et simplifier la gouvernance en matière d’eau par la création d’une structure nouvelle, « Solidarité Eau Guadeloupe » (SEG), pour gérer l’eau sur le territoire interconnecté (a minima, un périmètre com‐ prenant le SIAEAG, la```\n",
      "\n",
      "\u001b[0m\n",
      "Prompt after formatting:\n",
      "\u001b[32;1m\u001b[1;3mTu dois extraire les acronymes dans le texte délimité par ```\n",
      "Sous la forme d'une liste qui contient l'acronyme et sa signification.\n",
      "\n",
      "Les acronymes sont toujours entre () ou entre \"\" et en majuscule. Leur signification n'est souvent pas loin.\n",
      "\n",
      "```CAPEX, la commune de Capesterre‐Belle‐Eau et Les Saintes) ; la structure SEG inclurait les cinq EPCI du « continent », le département et la région. Deux solutions sont privilégiées : soit une structure SEG compétente sur les production et Le s b o n n es f eu ill es d e l’I G A transport d’eau potable, soit une structure SEG aux compétences plus larges allant de la production à la d i s t r i b u t i o n , u n e a u t o r i t é organisatrice donc, mais sans prise en charge de l’exploitation ; elle bénéficierait de l’apport des actifs concernés des EPCI sur son territoire de compétence, mais aussi des dettes financières associées à ces actifs ; la structure SEG serait par ailleurs compétente sur tous les aspects d’appui à maîtrise d’ouvrage et de planifica‐ tion de l’eau potable à l’échelle du département ; ‐ améliorer les performances techniques et financières des autorités organisatrices en les inscrivant dans la logique du plan Eau DOM, avec des financeurs invités à conditionner leurs subventions et prêts à la signature de contrats de progrès ; ‐ supprimer les tours d’eau pour la majorité des guadeloupéens ; les premiers investissements urgents doivent être engagés rapidement, dès lors qu’ils préservent l’avenir et qu’ils s’inscrivent dans la logique des contrats de progrès du plan eau DOM ; il conviendra de mettre en place une nouvelle organisation de la pénurie ne faisant plus appel aux tours d’eau, jusqu’à ce que l’accès à l’eau potable puisse être rétablie pour tous ; ‐ engager l’actualisation des schémas directeurs d’ali‐ mentation en eau potable, pour le département et par autorité organisatrice, et la remise en fonctionnement normal des feeders et des adductions hors système interconnecté, puis lancer l’ensemble des travaux préconisés. Pour s’assurer de la réussite du PEG22, la mission propose par ailleurs de nommer, côté État, un directeur de projet en charge de sa mise en œuvre, de faire rétablir l’état de droit dans le domaine de l’eau, d’adopter une communication adaptée sur les objectifs et les progrès du plan et d’engager un large programme de maîtrise de l’urbanisation et du foncier au bénéfice du service d’eau potable en utilisant tous les outils réglementaires disponibles (DUP, PIG et SAR). Inspection générale de l’administration 15, rue Cambacérès 75008 PARIS Directeur de la publication : Michel Rouzeau Rédacteur en chef : Pascal Mathieu © Inspection générale de l’administration Les auteurs Marc‐René Bayle | Inspecteur général de l’administration Aline Baguet | Membre du conseil général de l’environnement et du développement durable Alby Schmitt | Membre du conseil général de l’environnement et du développement durable François Werner | Inspecteur général des finances . Les recommandations‐clés 1. Renforcer la résilience du réseau en développant les interconnexions et en mettant en place des schémas directeurs et des guides de réalisation des ouvrages d’adduction d’eau. 2. Réduire par tous les moyens (réglementation, incitation, communication) les effets de la crise de l’eau en Guadeloupe. 3. Clarifier la propriété des infrastructures d’eau potable et n’engager tout nouvel inves‐ tissement que sous maîtrise d’ouvrage des autorités organisatrices. 4. Rattraper le passé en affectant l’actif et le passif ou en trouvant une forme de mutuali‐ sation de cet ensemble. 5. En vue d’une meilleure transparence et pour faciliter la participation du public, produi‐ re les RPQS (rapport sur le prix et la qualité du service) dans les délais et mettre en place une commission consultative sur les services publics d’eau potable au sein de toutes les autorités organisatrices et communes dotée de délégations de service public ou en régies. 6. Rendre plus efficace le programme d’actions de 71 M€ n’engager que les seuls travaux importants en maîtrise d’ouvrage des autorités organisatrices et conditionner leur fi‐ nancement à l’amélioration des facturations et de leur recouvrement. 7. Proposer aux acteurs de l’eau en Guadeloupe la constitution d’une structure nouvelle appelée « Solidarité Eau Guadeloupe » (SEG), regroupant au moins les collectivités du système interconnecté, ainsi que la région et le département, attributaire des équipe‐ ments, et, a minima, assurant la production et le transport de l’eau potable ; lui confier notamment des missions d’appui technique et financier aux autorités organisatrices. 8. Poursuivre la démarche d’amélioration des performances du plan Eau DOM et le ren‐ dre plus incitatif en s’appuyant sur l’opportunité de l’associer à des perspectives d’in‐ vestissement et maintenir le caractère sélectif des contrats de progrès, en introduisant des conditionnalités sur les investissements consentis en dehors de ces contrats. 9. Nommer un directeur de projet, responsable de la mise en œuvre et de la coordination générale du Plan Eau Guadeloupe 2022 (PEG22). 10. Solliciter la Cour des comptes afin que soient auditées les masses salariales imputées aux services publics d’eau potable et la```\n",
      "\n",
      "\u001b[0m\n",
      "Prompt after formatting:\n",
      "\u001b[32;1m\u001b[1;3mTu dois extraire les acronymes dans le texte délimité par ```\n",
      "Sous la forme d'une liste qui contient l'acronyme et sa signification.\n",
      "\n",
      "Les acronymes sont toujours entre () ou entre \"\" et en majuscule. Leur signification n'est souvent pas loin.\n",
      "\n",
      "```gestion des immobilisations et inviter la com‐ mission d’évaluation et de contrôle de la médiation de la consommation à évaluer l’or‐ ganisation des mesures de transparence et d’association des usagers prises par le servi‐ ce public de l’eau en Guadeloupe.```\n",
      "\n",
      "\u001b[0m\n",
      "Prompt after formatting:\n",
      "\u001b[32;1m\u001b[1;3mTu dois extraire les acronymes dans le texte délimité par ```\n",
      "Sous la forme d'une liste qui contient l'acronyme et sa signification.\n",
      "\n",
      "Les acronymes sont toujours entre () ou entre \"\" et en majuscule. Leur signification n'est souvent pas loin.\n",
      "\n",
      "```BF2016-12-16082 - Equpements sportifs OM.pub Les bonnes feuilles de l’IGA n° 2016-12 | octobre 2016 L ’ analyse des équipements sportifs ultramarins révèle un déficit par rapport à la métropole, écart que les sources actuelles de finance- ment ne peuvent compenser. Face à ce constat, les ministres ont souhaité un plan de développement de l’offre en équipements sportifs dans les outre-mer. Le rapport de l’inspection générale de l’administration et de l’inspection générale de la jeunesse et des sports s’efforce d’en jeter les bases. Il insiste notamment sur la nécessité de développer ce plan dans un cadre interministériel et selon un phasage réaliste, permettant de répondre rapidement aux besoins les plus urgents, avant d’envisager des opérations plus complexes. Pour financer ce plan, le rapport propose de dégager des ressources com- plémentaires en prolongeant après l’Euro 2016 de football le prélèvement exceptionnel sur les mises auprès de la Française des jeux et en abondant le fonds exceptionnel d’investissement. La mise en œuvre du plan implique une organisation principalement déconcentrée, la mise en place de contrats de responsabilités partagées entre les parties prenantes et des mesures d’accompagnement fortes en matière de qualification des acteurs. Rapport n° : 16082-16051-01 Crédit photo : Aufort Jérôme - Fotolia Les besoins en matière d’équipements sportifs dans les outre-mer Le s b o n n es f eu ill es d e l’I G A Les besoins en matière d’équipements sportifs dans les outre-mer Synthèse du rapport L e recensement des installations existantes, les caractéristiques particulières des outre-mer et l’insuffisance des ressources financières justifient un plan de rattrapage Les outre-mer présentent un déficit certain en matière d’équipements sportifs, qui apparaît dans toutes les sources disponibles : recensement des équi- pements sportifs (RES), diagnostics territoriaux, questionnaire et constats de la mission, rapport des élus en charge du sport… Pour s’en tenir au ratio du nombre d’équipements pour 10 000 habitants, l’ensemble des territoires ultramarins se situe largement en dessous de la moyenne nationale, à l’exception de Saint-Pierre-et- Miquelon dont la faible population explique un ratio plus favorable. Les départements d’outre mer (DOM) sont particulièrement en retrait, avec un niveau d’équi- pement inférieur d’un bon tiers à celui de la France entière. Le décalage est aussi qualitatif, en raison de la vétusté de bon nombre d’installations (repérable malgré la faiblesse des outils de mesure), d’un maillage insuffisant des territoires ultramarins, aggravé par la situation des réseaux de transports, et d’une offre parfois limitée de disciplines sportives. Il est accentué également par certaines caractéristi- ques des outre-mer : ainsi, les conditions climatiques (soleil, mais aussi régime des vents et des pluies) réduisent considérablement les plages d’utilisation d’un plateau multisports s’il n’est pas convenablement abrité ni éclairé, ce qui est trop rarement le cas. Les coûts de construction et d’entretien sont objectivement plus élevés, et les opérations butent parfois sur la question foncière. Le décalage ainsi créé avec la métropole n’est pas susceptible d’être réduit par les outils disponibles. En dépit d’une action volontariste, le centre national pour le développement du sport (CNDS) peut seulement vali- der, dans le meilleur des cas, quelques dossiers par an, surtout pour des créations ou des rénovations d’une certaine ampleur dans la catégorie des « équipements structurants de niveau local » (piscines, salles multis- ports destinés à la pratique fédérale, etc.). Pourtant, les besoins se font aussi sentir dans le domaine des petites installations de proximité. Les finances locales, souvent limitées, ne peuvent guère soutenir des investissements conséquents dans les infrastructures sportives tandis que de fortes priorités existent dans les domaines de l’assainissement, des constructions scolaires ou des transports, par exemple. La méthode à suivre implique un diagnostic territorial, une action rapide concernant les besoins les plus urgents et une démarche interministérielle Un plan de rattrapage initié et piloté par l’État, qui semble seul de nature à combler les écarts constatés, doit obéir à une méthodologie précise de détermination des actions prioritaires, afin notamment d’éviter l’effet de planification bureaucratique qui s’attache parfois à un déploiement de moyens nationaux axé sur des résul- tats purement quantitatifs. À cet égard, l’établissement d’un diagnostic territorial approfondi, à l’image de celui réalisé en Martinique, est un préalable indispensable, qui ne doit pourtant pas conduire à l’attentisme : en particulier, l’optimisation des équipements existants doit être conduite parallèlement à la réflexion prospec- tive afin d’améliorer rapidement l’offre d’installations sportives. La démarche doit être interministérielle, pour inscrire les équipements sportifs dans la```\n",
      "\n",
      "\u001b[0m\n",
      "Prompt after formatting:\n",
      "\u001b[32;1m\u001b[1;3mTu dois extraire les acronymes dans le texte délimité par ```\n",
      "Sous la forme d'une liste qui contient l'acronyme et sa signification.\n",
      "\n",
      "Les acronymes sont toujours entre () ou entre \"\" et en majuscule. Leur signification n'est souvent pas loin.\n",
      "\n",
      "```politique de la ville, dans la promotion de la santé par l’activité sportive, dans une vision partagée des installations scolaires et aussi, bien entendu, dans les priorités de la politique sportive elle-même, que ce soit en matière d’apprentissages fondamentaux (savoir nager), de sport pour tous (viser notamment le public féminin) ou de haut niveau (placer dans les meilleures conditions les jeunes talents ultramarins). La mise en œuvre d’un plan de rattrapage suppose un phasage réaliste et des ressources supplémentaires Un plan quadriennal appelle selon la mission un phasage en trois temps. Les actions à conduire dans l’immédiat ont trait à l’amélioration des installations existantes, ciblée sur les équipements de proximité destinés à une activité en extérieur : plateaux multis- ports à couvrir et éclairer, équipement en points d’eau, installation de sanitaires, remplacement de pelouses épuisées par des terrains synthétiques par exemple. Des équipements légers peuvent assez rapidement compléter l’offre existante : bassins d’eau en milieu naturel ou hors sol pour l’apprentissage de la natation, parcours santé, piste d’initiation à l’athlétisme, panneaux de basket 3 x 3... Ensuite, dans une seconde phase, compte tenu des délais de programmation, de conception et de réalisa- tion, des équipements structurants plus complexes (gymnases, terrains de grands jeux dotés de vestiaires et sanitaires, salles pour les sports de combat…) pourront combler des lacunes parfois criantes dans la Le s b o n n es f eu ill es d e l’I G A couverture du territoire, ou dans certaines disciplines pour lesquelles existe une forte demande. Enfin, à l’horizon 2020, des projets de plus grande envergure pourront être déployés pour favoriser la pratique du sport de haut niveau et compléter l’offre de la France en vue de l’organisation de compétitions internationales comme les Jeux de l’Océan Indien, du Pacifique etc. Un véritable effort de rattrapage ne peut, compte tenu des écarts constatés, être conduit à moyens constants. Après avoir analysé l’ensemble des ressources possibles, la mission a estimé que l’affectation de ressources supplémentaires au plan de rattrapage pourrait résulter principalement, d’une part, du maintien au-delà de 2017 du prélèvement exception- nel de 0,3 % sur les sommes misées auprès de la Française des jeux, institué au titre notamment de l’organisation de l’Euro 2016 de football, et, d’autre part, de la mobilisation des 10 M€ supplémentaires inscrits dans la programmation budgétaire triennale au titre du fonds exceptionnel d’investissement (FEI). Ces montants pourraient composer une dotation exceptionnelle pour les équipements sportifs des outre- mer (ou DEESOM), répartie entre les territoires ultrama- rins selon les critères simples de la population, du PIB par habitant et du ratio global du nombre d’infrastruc- tures sportives pour 10 000 habitants (ampleur de l’écart à la moyenne). Les ressources supplémentaires engagées par l’État devront se combiner avec les ressources locales : celles des communes, partout où cela est possible ; des inter- communalités qui exercent trop rarement dans les outre-mer leur compétence en matière de sports alors que cet échelon est pertinent pour la satisfaction optimale des besoins du public ; des départements, des régions et territoires selon l’organisation administrative : les ressources de ces entités doivent être mobilisées pour assurer l’effet de levier des cofinancements. Le rapport explore les autres canaux de financement possibles, depuis la dotation d’équipe- ment aux territoires ruraux (DETR) à la dotation politique de la ville et aux crédits de l’agence nationale pour la rénovation urbaine (ANRU), jusqu’aux finance- ments européens et l’apport des fédérations au développement du sport ultramarin. La réussite du plan de rattrapage repose sur une organisation principalement déconcentrée et des mesures fortes d’accompagnement La réussite d’un plan de rattrapage suppose aussi une organisation adaptée. Compte tenu de la diversité des situations et de la disparité des besoins, la mission préconise une structuration partenariale largement déconcentrée. Parallèlement à la concertation nécessaire à un diagnostic territorial, une commission partenariale des investissements sportifs (ou CPIS) pourrait décider des équipements à réaliser, sous l’autorité du préfet s’appuyant sur le pôle sport des directions compétentes en matière de jeunesse et sports et cohésion sociale et, le cas échéant, sur un animateur territorial dédié aux actions du plan de rattrapage : un tel catalyseur peut se révéler pertinent pour coordonner un plan complexe, à l’image de celui mis en place pour le bon déroulement de l’opération « Guyane, base avancée », effort conséquent de mise à niveau de certains équipements de ce département pour bénéficier de la proximité de la Coupe du monde de football au Brésil en 2014 et des Jeux de Rio de l’été 2016. Pour impliquer les collectivités territoriales dans la```\n",
      "\n",
      "\u001b[0m\n",
      "Prompt after formatting:\n",
      "\u001b[32;1m\u001b[1;3mTu dois extraire les acronymes dans le texte délimité par ```\n",
      "Sous la forme d'une liste qui contient l'acronyme et sa signification.\n",
      "\n",
      "Les acronymes sont toujours entre () ou entre \"\" et en majuscule. Leur signification n'est souvent pas loin.\n",
      "\n",
      "```réussite du plan, un contrat de responsabilités partagées devrait permettre de consolider la program- mation, de sécuriser les financements et de prévoir les suites concernant les coûts supplémentaires de person- nel et de maintenance liés à des équipements nouveaux ou rénovés. L’administration centrale, outre son rôle dans la répartition des moyens financiers entre les territoires ultramarins, devrait poursuivre son effort de qualité dans le recensement des équipements, qui devrait être simplifié et amendé, centraliser les résultats obtenus par le plan de rattrapage et mutualiser les bonnes pratiques. Enfin, des mesures d’accompagnement sont à prévoir pour l’accès aux équipements sportifs, la continuité territoriale et le renforcement de la qualification des acteurs, très inégale selon les sites et les collectivités. Inspection générale de l’administration 15, rue Cambacérès 75008 PARIS Directeur de la publication : Michel Rouzeau Rédacteur en chef : Eric Ferri © Inspection générale de l’administration Les auteurs Rémi Duchêne | Inspecteur général de l’administration Grégory Valot | Inspecteur de l’administration Daniel Zielinski| Inspecteur général de la jeunesse et des sports Les recommandations-clés 1. Dans chaque territoire ultramarin, élaborer un diagnostic territorial partagé identifiant les besoins, les forces et les faiblesses de l’offre en équipements sportifs et mettre en place une conférence territoriale du sport, en charge de l’élaboration de ce diagnostic. 2. Définir un plan de rattrapage (2016-2020) organisé en 3 phases : les opérations légères d’optimisation de l’offre existante (dès 2017), les opérations plus importantes de construction et de réhabilitation visant à réduire les déséquilibres territoriaux et par discipline (à partir de 2018), puis les opérations relatives aux équipements structurants (à terme du plan). 3. A compter de 2017, maintenir le prélèvement exceptionnel sur les mises auprès de la Française des jeux mis en place dans le cadre de l’Euro 2016 au bénéfice du CNDS. 4. Instituer une dotation exceptionnelle pour les équipements sportifs des outre-mer, alimentée par le maintien du prélèvement exceptionnel du CNDS et une fraction du FEI, et procéder à la répartition de cette dotation entre territoires sur la base de critères simples et objectifs dès 2017. 5. Dans chaque territoire ultramarin, installer la commission partenariale d’investissements sportifs (CPIS), regroupant les services et opérateurs de l’État, les collectivités territoriales et le mouvement sportif, instance destinée à piloter, animer et suivre, dans chaque territoire, le plan de rattrapage. 6. Désigner, pour chaque territoire, un animateur territorial chargé de piloter et animer l’ensemble du plan de rattrapage. 7. Adosser le plan de rattrapage à un contrat d’engagements précisant les responsabilités financières et opérationnelles de chaque partie prenante. 8. Mettre en place des actions de formation spécifiques en direction des agents des collectivités territoriales et des dirigeants et bénévoles des clubs sportifs.```\n",
      "\n",
      "\u001b[0m\n",
      "Prompt after formatting:\n",
      "\u001b[32;1m\u001b[1;3mTu dois extraire les acronymes dans le texte délimité par ```\n",
      "Sous la forme d'une liste qui contient l'acronyme et sa signification.\n",
      "\n",
      "Les acronymes sont toujours entre () ou entre \"\" et en majuscule. Leur signification n'est souvent pas loin.\n",
      "\n",
      "```Les bonnes feuilles de l’IGA n° 2014-6 | avril 2014 L a politique territoriale de lutte contre les drogues et les toxicomanies conduite par la MILDT montre une faible maturité du pilotage central et territorial et une absence de stratégie locale. Concernant les pro- jets financés sur les crédits délégués par la MILDT au préfet de région, leur sélection repose sur des critères imprécis. Enfin, « l’effet levier » escompté n’est pas mis en évidence, la part de financement des collectivités locales restant faible. En termes d’évolutions possibles, à animation interministérielle nationale constante, un premier scénario confie la définition et l’animation d’un plan régional à un comité stratégique à créer, comprenant les collectivités loca- les, ou au comité de l’administration régionale (CAR). Le second scénario s’inscrit dans un renforcement de l’animation interministérielle nationale s’accompagnant soit d’un bilan en CAR, soit du suivi par les administrations centrales de l’activité de leurs services déconcentrés. Le suivi, par chacun des chargés de missions de la MILDT, de deux à trois régions assurerait une cohérence et un appui opérationnel aux chefs de projets MILDT régionaux voire départementaux. Rapport n° : 14024-13053-01 Crédit photo : Felipe Frasao - Fotolia Evaluation du pilotage territorial de la politique de prévention et de lutte contre les drogues et la toxicomanie Le s b o n n es f eu ill es d e l’I G A Evaluation du pilotage territorial de la politique de prévention et de lutte contre les drogues et la toxicomanie Synthèse du rapport L ’IGA, l’IGAS et l’IGSJ ont conduit « l'évaluation partenariale de la déclinaison territoriale de la politique publique de lutte contre les drogues et la toxicomanie » dans le cadre d'une mission de moderni- sation de l'action publique demandée par la mission interministérielle de lutte contre les drogues et la toxi- comanie (MILDT) simultanément à l’adoption d’un nou- veau plan gouvernemental. La mission a rencontré les divers interlocuteurs de cette politique au niveau national et local (Nord-Pas de Calais, Centre, Poitou-Charentes). Elle a également soumis un questionnaire aux chefs de projets (CDP) de la MILDT, principalement des directeurs de cabinet du préfet. Les constats sur l'organisation du dispositif font ressor- tir une faible maturité du système de pilotage intermi- nistériel et une absence de stratégies régionales fon- dées sur un diagnostic local. L'échelon régional n'est pas privilégié dans l'organisa- tion de la MILDT. En effet, bien qu’engagé dans le pro- cessus de régionalisation depuis le premier trimestre 2013, les fonctions des CDP régionaux sont limitées à la sélection des projets et à l'attribution des financements. Leur rôle de chef de file n’apparait ainsi pas clairement. La capacité des CDP régionaux à mobiliser l’ensemble des services placés sous l'autorité du préfet de région (DREAL, DRAAF, DRJSCS ou DIRECCTE) est améliorable. En parallèle, les ARS disposent de leurs propres projets régionaux de santé intégrant une dimension « préven- tion de la toxicomanie ». Leurs dotations budgétaires en la matière, supérieures à celles des CDP régionaux, leur donnent des possibilités d'action autonome. Les dispositifs d'appui régional (DAR) apportent aux CDP un soutien inégal avec une faible activité sur les trois principales prestations qui leur sont confiées (diagnostic, conseil dont l’évaluation des actions, relais d’information). Une suspicion de conflit d’intérêts enta- che leur légitimité étant chargés d'évaluer les projets d'associations concurrentes de celles dont ils sont issus. A l’échelon départemental, les synergies entre CDP dé- partementaux sont insuffisamment encouragées. Les capacités d'expertise de l’administration apparaissent trop peu exploitées depuis la réaffectation des person- nels des DDASS et des DRASS en ARS ou DDCS ; les liens entre les acteurs de la cohésion sociale ou de l'offre sanitaire et les forces de l'ordre semblent ténus ; les procureurs de la République sont peu sollicités. Enfin, la coopération avec les collectivités territoriales est insuffisamment recherchée. Le conseil régional n'est pas représenté auprès du CDP. Le cas échéant, le lien s’établit par le biais des porteurs de projets en quête de cofinancements. Les conseils généraux, les communes et les intercommunalités connaissent le dispositif MILDT pour ses appels à projets jugés inadaptés aux calen- driers et à la nature de leurs actions. La MILDT est confrontée à la difficulté de coordonner autour des objectifs de sa politique une vingtaine de ministères. En son sein, le secrétariat général, seul animateur du réseau territorial, n’y consacre pas le temps nécessaire. Sa présence insuffisante sur le terrain, l'absence de rap- port d'activité et d'évaluation ainsi que le manque d'ex- ploitation des rapports d'activité des CDP ne favorisent ni « le leadership » de l'institution, ni sa légitimité, ni la lisibilité de sa chaîne de décision. En ce qui concerne```\n",
      "\n",
      "\u001b[0m\n",
      "Prompt after formatting:\n",
      "\u001b[32;1m\u001b[1;3mTu dois extraire les acronymes dans le texte délimité par ```\n",
      "Sous la forme d'une liste qui contient l'acronyme et sa signification.\n",
      "\n",
      "Les acronymes sont toujours entre () ou entre \"\" et en majuscule. Leur signification n'est souvent pas loin.\n",
      "\n",
      "```les projets financés, trop souvent par reconduction, leur sélection repose sur des critères imprécis, largement interprétés (innovation, interminis- térialité). Les forces de l'ordre obtiennent encore par- fois le financement d’achats de matériels d'investigation alors que de tels projets en sont expressément exclus. Les actions de prévention représentent au total 89 % des 11 M€ versés en 2012. Elles couvrent des situations hétérogènes : les actions en milieu scolaire captent près du tiers des crédits alloués en 2012 sans qu’un réel contrôle ne s’exerce sur l’adéquation entre les deman- des des chefs d’établissement et les besoins identifiés. Les cofinancements représentent près de la moitié du financement des actions mais proviennent, pour plus des deux tiers, de crédits Etat et, pour moins d'un cin- quième, des collectivités territoriales. Les cofinance- ments avec les ARS sont absents du dispositif MILDT dans plus de la moitié des départements, bien qu’ils représentent 41 % des cofinancements. L'influence de la MILDT est certainement affectée par la faiblesse de ses crédits et ne peut compter sur « l’effet levier » pour coordonner la politique territoriale. En effet, le budget de la MILDT, en constante diminution, est en concurrence avec de multiples financements ayant le même objet. Le fonds de concours « drogues », Le s b o n n es f eu ill es d e l’I G A par nature aléatoire, n’a que partiellement compensé cette diminution. L'évaluation de la mise en œuvre de la politique de lutte contre les drogues et la toxicomanie apparait insuffi- samment pratiquée à tous les échelons. Dans les faits, le porteur de projet réalise un bilan limité à des éléments quantitatifs assez pauvres. Les rapports d'activité des CDP donnent également des informations quantitatives sans mise en perspective. Enfin, l'Observatoire français des drogues et toxicomanies (OFDT), dont c'est pour- tant la mission, n’a jamais été mandaté pour réaliser l’évaluation du plan gouvernemental. Sur ces bases, les propositions d’évolution clarifient les responsabilités des différents échelons, du national au territorial, sous l'égide de la MILDT. Ces propositions sont réparties en deux scénarios : l'un réaménage le dispositif existant quand l'autre privilégie les blocs de compétences traditionnels des ministères. Le scénario 1 place à la tête du dispositif régional une instance chargée principalement de valider le diagnostic préalable et d'arrêter une stratégie sur les trois volets du plan gouvernemental (prévention, soins et répres- sion du trafic), de coordonner les différentes politiques de l'Etat et de les faire converger avec celles des collec- tivités territoriales. Cette instance pourrait être le comité de l'administra- tion territoriale (CAR) ou un conseil stratégique régional à créer. La différence principale réside dans la présence ou non du président du conseil régional qui est toute- fois associé à la politique de l'Etat à travers la commis- sion de coordination des politiques publiques de santé chargée de la prévention animée par l'ARS. Les travaux de cette instance seraient préparés par une équipe d'appui, composée d'un des chargés de mission de la MILDT, référent pour deux ou trois régions, et du CDP régional, chargé de suivre la mise en œuvre de la stratégie et de diffuser les bonnes pratiques. Ces tra- vaux s'appuieraient sur un diagnostic régional élaboré par l'OFDT. L'équipe serait complétée d'un opérateur régional auquel échoirait l'aide au montage des projets qui incombe aujourd'hui au DAR. Comme dans tous les scénarios, ce dernier serait supprimé. Dans le second scénario, la MILDT animerait l’action des ministères sur la base du plan gouvernemental. Elle s'assurerait que chacun des ministères transmet des instructions à ses services déconcentrés en cohérence avec les objectifs du plan. Dès lors, elle n'adresserait plus ses directives aux CDP régionaux mais affirmerait sa présence au niveau territorial par l'intermédiaire de ses chargés de mission assurant le suivi de deux ou trois régions. La cohérence des priorités et leur hiérarchisation se- raient collectivement assurées en CAR. Le préfet de région, qui le préside, rendrait compte à la MILDT de leur mise en œuvre comme de leurs résultats. Contrai- rement au scénario 1, l’élaboration d’un plan stratégi- que régional n’est plus nécessaire : seule une synthèse des travaux réalisés en CAR (préparée par le CDP régio- nal) établirait un bilan des actions menées par l’ensem- ble de ses membres. Deux variantes sont proposées par la mission. Dans la première, la MILDT continuerait de déléguer des dotations régionales aux préfets de région. Dès lors, les différentes phases du processus de sélection des projets seraient les suivantes : les ARS seraient chargées du lancement d’un appel à projets annuel unique. A l'issue de celui-ci, elles établiraient une sélection des dossiers conformes à leurs propres critères et transmettraient aux préfets de région les projets répondant aux```\n",
      "\n",
      "\u001b[0m\n",
      "Prompt after formatting:\n",
      "\u001b[32;1m\u001b[1;3mTu dois extraire les acronymes dans le texte délimité par ```\n",
      "Sous la forme d'une liste qui contient l'acronyme et sa signification.\n",
      "\n",
      "Les acronymes sont toujours entre () ou entre \"\" et en majuscule. Leur signification n'est souvent pas loin.\n",
      "\n",
      "```critères prioritaires arrêtés en CAR et susceptibles de bénéficier d'une subvention MILDT, en sus ou pas du financement de l’ARS. Dans la seconde, la MILDT se concentrerait sur l’anima- tion interministérielle. Les administrations centrales seraient responsables du pilotage des actions de leurs services et de leur cohérence avec le plan gouverne- mental. La MILDT répartirait les financements entre les différents ministères : ils seraient fléchés ab initio, com- me exclusivement affectés à la prévention de la toxico- manie. Le positionnement du CDP serait clarifié car re- centré sur ses fonctions traditionnelles. Il n'y aurait plus lieu de prévoir d'opérateur régional chargé d'aider au montage des projets, les administrations lançant chacu- ne les appels à projets dans leur périmètre ou organi- sant par convention leur mutualisation. En ce qui concerne l'évaluation, il faut distinguer la mé- thodologie de l'évaluation. La première serait confiée à l'OFDT, la seconde à un organisme extérieur. Cette di- chotomie évite les conflits d'intérêts. Inspection générale de l’administration 15, rue Cambacérès 75008 PARIS Directeur de la publication : Marc Abadie Rédacteur en chef : Xavier Giguet © Inspection générale de l’administration Les auteurs Olivier Diederichs | Inspecteur général de l'administration Anne Tagand | Inspectrice de l'administration Isabelle Yéni | Inspectrice générale des affaires sociales Marie Morel | Chargée de mission à l’inspection générale des affaires sociales Françoise Pieri-Gauthier | Inspection générale des services judiciaires Catherine Mocko | Inspection générale des services judiciaires```\n",
      "\n",
      "\u001b[0m\n",
      "Prompt after formatting:\n",
      "\u001b[32;1m\u001b[1;3mTu dois extraire les acronymes dans le texte délimité par ```\n",
      "Sous la forme d'une liste qui contient l'acronyme et sa signification.\n",
      "\n",
      "Les acronymes sont toujours entre () ou entre \"\" et en majuscule. Leur signification n'est souvent pas loin.\n",
      "\n",
      "```BF2017-5-16088 - Instances médicales FP.pub Les bonnes feuilles de l’IGA n° 2017-5 | mai 2017 L es instances médicales de la fonction publique, complexe, nombreuses et fragmentées sont organisées selon des critères qui ne recouvrent pas la distinction habituelle entre les trois versants de la fonction publique. La multiplicité des intervenants ainsi que le cloisonnement du dispositif entre les sujets couverts par le secret médical et les questions de gestion administrative et statutaire compliquent la prise en charge des agents malades. La pénurie médicale est également un élément de contexte essentiel à prendre en compte. Quatre scénarios sont proposés répondant à deux logiques différentes : • une première logique conserve la philosophie actuelle du principe d’un avis médical préalable sur une série de situations, avec deux scénarios : un sécanraio de base avec des allègements significatifs, un scénario de fusion des instances en uen commission médicale unique non paritaire ; • une seconde logique change la nature du dispositif pour le rapprocher du régime général avec un contrôle a posteriori des arrêts maladie, soit propre à la fonction publique, soit géré par la caisse nationale d’assurance maladie. Rapport n° : 16088R Crédit photo : Alexander Raths - Fotolia Evaluation du dispositif des instances médicales de la fonction publique Rapport de diagnostic Le s b o n n e s fe u il le s d e l ’I G A Evaluation du dispositif des instances médicales de la fonction publique Rapport de diagnostic Synthèse du rapport L e dispositif des instances médicales de la fonction publique, complexe, apparaît générateur de lourdeurs et de délais. Les instances nombreuses et fragmentées sont organisées selon des critères qui ne recouvrent pas la distinction habituelle entre les trois versants de la fonction publique. Les instances de droit commun se tiennent ainsi en administration centrale par ministère et, pour l’essentiel de leur activité, en département où un même secrétariat traite des agents de l’Etat et de la fonction publique hospitalière (FPH). Depuis 2012, les agents de la fonction publique territoriale (FPT) sont pris en charge par les secrétariats créés dans les centres de gestion mais leurs dossiers peuvent aussi être suivis directement par leur collectivité. Des services déconcentrés franciliens sont aussi gérés « historiquement » par leur centrale ainsi que des agents d’établissements publics d’Etat, bien que ceux-ci puissent disposer également de leurs propres instances. C’est aussi le cas des agents de l’AP-HP. Par ailleurs, certains corps d’Etat (policiers, magistrats …) relèvent d’instances spécifiques eu égard aux particularités de leur métier et statut. Du fait de cette diversité, le dispositif n’est pas suivi et l’activité globale des instances n’est pas mesurée. Il n’existe pas de donnée sur le nombre total de dossiers traités ou en attente. La mission a donc dû réaliser deux enquêtes auprès des directions départementales de la cohésion sociale (et de la protection des populations) et des centres de gestion (CDG), pour obtenir des éléments de volumétrie, ainsi que diverses données sur le fonctionnement et le financement de ces instances. S’ajoute à cela un nombre important de procédures au formalisme excessif. La multiplicité des intervenants ainsi que le cloisonnement du dispositif entre les sujets couverts par le secret médical et les questions de gestion admi- nistrative et statutaire compliquent la prise en charge par chaque acteur qui suit son propre objectif sans tenir compte des autres : • Les secrétariats des instances, éléments pivots du dispositif, ne disposent pas de tous les leviers. La réforme de 2012 qui a confié aux CDG les dossiers de la fonction publique territoriale s’est effectuée de façon satisfaisante et a permis d’aboutir à des délais de traitement plus raisonnables grâce à des recrute- ments supplémentaires. • Les services RH des employeurs appréhendent et maîtrisent différemment les contraintes procédurales augmentant souvent les délais et fragilisant les procédures. Les médecins de préven- tion, inégalement présents selon les services, ne jouent pas toujours leur rôle, faute de temps et de disponibilité. La pénurie médicale reste une des causes principales de difficultés. Le nombre de médecins dans les secrétariats est trop limité et leur recrutement de plus en plus difficile au sein des instances. Alors même que de nombreuses expertises sont quasi- systématiquement demandées, la ressource médicale se raréfie et les rémunérations, trop faibles, offertes tant aux médecins des instances qu’aux experts, accentuent cette tendance. Enfin, la méconnaissance des spécificités du statut de la fonction publique rend parfois inopérantes certaines préconisations pour les employeurs. La qualité des expertises apparaît aussi inégale. L’absence de pilotage national et de suivi d’activité ne permet ni une gestion à long terme, ni l’équité du traitement des agents. Le comité médical supérieur```\n",
      "\n",
      "\u001b[0m\n"
     ]
    },
    {
     "ename": "BadRequestError",
     "evalue": "Error code: 400 - {'object': 'error', 'message': 'Server disconnected', 'code': 50001}",
     "output_type": "error",
     "traceback": [
      "\u001b[0;31m---------------------------------------------------------------------------\u001b[0m",
      "\u001b[0;31mBadRequestError\u001b[0m                           Traceback (most recent call last)",
      "Cell \u001b[0;32mIn[151], line 1\u001b[0m\n\u001b[0;32m----> 1\u001b[0m keywords \u001b[38;5;241m=\u001b[39m \u001b[43mmap_reduce_chain\u001b[49m\u001b[38;5;241;43m.\u001b[39;49m\u001b[43minvoke\u001b[49m\u001b[43m(\u001b[49m\u001b[43mdocs_splitted\u001b[49m\u001b[43m[\u001b[49m\u001b[38;5;241;43m0\u001b[39;49m\u001b[43m:\u001b[49m\u001b[38;5;241;43m10\u001b[39;49m\u001b[43m]\u001b[49m\u001b[43m)\u001b[49m\n\u001b[1;32m      2\u001b[0m \u001b[38;5;66;03m# keywords = map_reduce_chain.invoke(docs_splitted[0:10], verbose=True)\u001b[39;00m\n",
      "File \u001b[0;32m~/.miniconda3/lib/python3.11/site-packages/langchain/chains/base.py:162\u001b[0m, in \u001b[0;36mChain.invoke\u001b[0;34m(self, input, config, **kwargs)\u001b[0m\n\u001b[1;32m    160\u001b[0m \u001b[38;5;28;01mexcept\u001b[39;00m \u001b[38;5;167;01mBaseException\u001b[39;00m \u001b[38;5;28;01mas\u001b[39;00m e:\n\u001b[1;32m    161\u001b[0m     run_manager\u001b[38;5;241m.\u001b[39mon_chain_error(e)\n\u001b[0;32m--> 162\u001b[0m     \u001b[38;5;28;01mraise\u001b[39;00m e\n\u001b[1;32m    163\u001b[0m run_manager\u001b[38;5;241m.\u001b[39mon_chain_end(outputs)\n\u001b[1;32m    164\u001b[0m final_outputs: Dict[\u001b[38;5;28mstr\u001b[39m, Any] \u001b[38;5;241m=\u001b[39m \u001b[38;5;28mself\u001b[39m\u001b[38;5;241m.\u001b[39mprep_outputs(\n\u001b[1;32m    165\u001b[0m     inputs, outputs, return_only_outputs\n\u001b[1;32m    166\u001b[0m )\n",
      "File \u001b[0;32m~/.miniconda3/lib/python3.11/site-packages/langchain/chains/base.py:156\u001b[0m, in \u001b[0;36mChain.invoke\u001b[0;34m(self, input, config, **kwargs)\u001b[0m\n\u001b[1;32m    149\u001b[0m run_manager \u001b[38;5;241m=\u001b[39m callback_manager\u001b[38;5;241m.\u001b[39mon_chain_start(\n\u001b[1;32m    150\u001b[0m     dumpd(\u001b[38;5;28mself\u001b[39m),\n\u001b[1;32m    151\u001b[0m     inputs,\n\u001b[1;32m    152\u001b[0m     name\u001b[38;5;241m=\u001b[39mrun_name,\n\u001b[1;32m    153\u001b[0m )\n\u001b[1;32m    154\u001b[0m \u001b[38;5;28;01mtry\u001b[39;00m:\n\u001b[1;32m    155\u001b[0m     outputs \u001b[38;5;241m=\u001b[39m (\n\u001b[0;32m--> 156\u001b[0m         \u001b[38;5;28;43mself\u001b[39;49m\u001b[38;5;241;43m.\u001b[39;49m\u001b[43m_call\u001b[49m\u001b[43m(\u001b[49m\u001b[43minputs\u001b[49m\u001b[43m,\u001b[49m\u001b[43m \u001b[49m\u001b[43mrun_manager\u001b[49m\u001b[38;5;241;43m=\u001b[39;49m\u001b[43mrun_manager\u001b[49m\u001b[43m)\u001b[49m\n\u001b[1;32m    157\u001b[0m         \u001b[38;5;28;01mif\u001b[39;00m new_arg_supported\n\u001b[1;32m    158\u001b[0m         \u001b[38;5;28;01melse\u001b[39;00m \u001b[38;5;28mself\u001b[39m\u001b[38;5;241m.\u001b[39m_call(inputs)\n\u001b[1;32m    159\u001b[0m     )\n\u001b[1;32m    160\u001b[0m \u001b[38;5;28;01mexcept\u001b[39;00m \u001b[38;5;167;01mBaseException\u001b[39;00m \u001b[38;5;28;01mas\u001b[39;00m e:\n\u001b[1;32m    161\u001b[0m     run_manager\u001b[38;5;241m.\u001b[39mon_chain_error(e)\n",
      "File \u001b[0;32m~/.miniconda3/lib/python3.11/site-packages/langchain/chains/combine_documents/base.py:136\u001b[0m, in \u001b[0;36mBaseCombineDocumentsChain._call\u001b[0;34m(self, inputs, run_manager)\u001b[0m\n\u001b[1;32m    134\u001b[0m \u001b[38;5;66;03m# Other keys are assumed to be needed for LLM prediction\u001b[39;00m\n\u001b[1;32m    135\u001b[0m other_keys \u001b[38;5;241m=\u001b[39m {k: v \u001b[38;5;28;01mfor\u001b[39;00m k, v \u001b[38;5;129;01min\u001b[39;00m inputs\u001b[38;5;241m.\u001b[39mitems() \u001b[38;5;28;01mif\u001b[39;00m k \u001b[38;5;241m!=\u001b[39m \u001b[38;5;28mself\u001b[39m\u001b[38;5;241m.\u001b[39minput_key}\n\u001b[0;32m--> 136\u001b[0m output, extra_return_dict \u001b[38;5;241m=\u001b[39m \u001b[38;5;28;43mself\u001b[39;49m\u001b[38;5;241;43m.\u001b[39;49m\u001b[43mcombine_docs\u001b[49m\u001b[43m(\u001b[49m\n\u001b[1;32m    137\u001b[0m \u001b[43m    \u001b[49m\u001b[43mdocs\u001b[49m\u001b[43m,\u001b[49m\u001b[43m \u001b[49m\u001b[43mcallbacks\u001b[49m\u001b[38;5;241;43m=\u001b[39;49m\u001b[43m_run_manager\u001b[49m\u001b[38;5;241;43m.\u001b[39;49m\u001b[43mget_child\u001b[49m\u001b[43m(\u001b[49m\u001b[43m)\u001b[49m\u001b[43m,\u001b[49m\u001b[43m \u001b[49m\u001b[38;5;241;43m*\u001b[39;49m\u001b[38;5;241;43m*\u001b[39;49m\u001b[43mother_keys\u001b[49m\n\u001b[1;32m    138\u001b[0m \u001b[43m\u001b[49m\u001b[43m)\u001b[49m\n\u001b[1;32m    139\u001b[0m extra_return_dict[\u001b[38;5;28mself\u001b[39m\u001b[38;5;241m.\u001b[39moutput_key] \u001b[38;5;241m=\u001b[39m output\n\u001b[1;32m    140\u001b[0m \u001b[38;5;28;01mreturn\u001b[39;00m extra_return_dict\n",
      "File \u001b[0;32m~/.miniconda3/lib/python3.11/site-packages/langchain/chains/combine_documents/map_reduce.py:225\u001b[0m, in \u001b[0;36mMapReduceDocumentsChain.combine_docs\u001b[0;34m(self, docs, token_max, callbacks, **kwargs)\u001b[0m\n\u001b[1;32m    213\u001b[0m \u001b[38;5;28;01mdef\u001b[39;00m \u001b[38;5;21mcombine_docs\u001b[39m(\n\u001b[1;32m    214\u001b[0m     \u001b[38;5;28mself\u001b[39m,\n\u001b[1;32m    215\u001b[0m     docs: List[Document],\n\u001b[0;32m   (...)\u001b[0m\n\u001b[1;32m    218\u001b[0m     \u001b[38;5;241m*\u001b[39m\u001b[38;5;241m*\u001b[39mkwargs: Any,\n\u001b[1;32m    219\u001b[0m ) \u001b[38;5;241m-\u001b[39m\u001b[38;5;241m>\u001b[39m Tuple[\u001b[38;5;28mstr\u001b[39m, \u001b[38;5;28mdict\u001b[39m]:\n\u001b[1;32m    220\u001b[0m \u001b[38;5;250m    \u001b[39m\u001b[38;5;124;03m\"\"\"Combine documents in a map reduce manner.\u001b[39;00m\n\u001b[1;32m    221\u001b[0m \n\u001b[1;32m    222\u001b[0m \u001b[38;5;124;03m    Combine by mapping first chain over all documents, then reducing the results.\u001b[39;00m\n\u001b[1;32m    223\u001b[0m \u001b[38;5;124;03m    This reducing can be done recursively if needed (if there are many documents).\u001b[39;00m\n\u001b[1;32m    224\u001b[0m \u001b[38;5;124;03m    \"\"\"\u001b[39;00m\n\u001b[0;32m--> 225\u001b[0m     map_results \u001b[38;5;241m=\u001b[39m \u001b[38;5;28;43mself\u001b[39;49m\u001b[38;5;241;43m.\u001b[39;49m\u001b[43mllm_chain\u001b[49m\u001b[38;5;241;43m.\u001b[39;49m\u001b[43mapply\u001b[49m\u001b[43m(\u001b[49m\n\u001b[1;32m    226\u001b[0m \u001b[43m        \u001b[49m\u001b[38;5;66;43;03m# FYI - this is parallelized and so it is fast.\u001b[39;49;00m\n\u001b[1;32m    227\u001b[0m \u001b[43m        \u001b[49m\u001b[43m[\u001b[49m\u001b[43m{\u001b[49m\u001b[38;5;28;43mself\u001b[39;49m\u001b[38;5;241;43m.\u001b[39;49m\u001b[43mdocument_variable_name\u001b[49m\u001b[43m:\u001b[49m\u001b[43m \u001b[49m\u001b[43md\u001b[49m\u001b[38;5;241;43m.\u001b[39;49m\u001b[43mpage_content\u001b[49m\u001b[43m,\u001b[49m\u001b[43m \u001b[49m\u001b[38;5;241;43m*\u001b[39;49m\u001b[38;5;241;43m*\u001b[39;49m\u001b[43mkwargs\u001b[49m\u001b[43m}\u001b[49m\u001b[43m \u001b[49m\u001b[38;5;28;43;01mfor\u001b[39;49;00m\u001b[43m \u001b[49m\u001b[43md\u001b[49m\u001b[43m \u001b[49m\u001b[38;5;129;43;01min\u001b[39;49;00m\u001b[43m \u001b[49m\u001b[43mdocs\u001b[49m\u001b[43m]\u001b[49m\u001b[43m,\u001b[49m\n\u001b[1;32m    228\u001b[0m \u001b[43m        \u001b[49m\u001b[43mcallbacks\u001b[49m\u001b[38;5;241;43m=\u001b[39;49m\u001b[43mcallbacks\u001b[49m\u001b[43m,\u001b[49m\n\u001b[1;32m    229\u001b[0m \u001b[43m    \u001b[49m\u001b[43m)\u001b[49m\n\u001b[1;32m    230\u001b[0m     question_result_key \u001b[38;5;241m=\u001b[39m \u001b[38;5;28mself\u001b[39m\u001b[38;5;241m.\u001b[39mllm_chain\u001b[38;5;241m.\u001b[39moutput_key\n\u001b[1;32m    231\u001b[0m     result_docs \u001b[38;5;241m=\u001b[39m [\n\u001b[1;32m    232\u001b[0m         Document(page_content\u001b[38;5;241m=\u001b[39mr[question_result_key], metadata\u001b[38;5;241m=\u001b[39mdocs[i]\u001b[38;5;241m.\u001b[39mmetadata)\n\u001b[1;32m    233\u001b[0m         \u001b[38;5;66;03m# This uses metadata from the docs, and the textual results from `results`\u001b[39;00m\n\u001b[1;32m    234\u001b[0m         \u001b[38;5;28;01mfor\u001b[39;00m i, r \u001b[38;5;129;01min\u001b[39;00m \u001b[38;5;28menumerate\u001b[39m(map_results)\n\u001b[1;32m    235\u001b[0m     ]\n",
      "File \u001b[0;32m~/.miniconda3/lib/python3.11/site-packages/langchain/chains/llm.py:227\u001b[0m, in \u001b[0;36mLLMChain.apply\u001b[0;34m(self, input_list, callbacks)\u001b[0m\n\u001b[1;32m    225\u001b[0m \u001b[38;5;28;01mexcept\u001b[39;00m \u001b[38;5;167;01mBaseException\u001b[39;00m \u001b[38;5;28;01mas\u001b[39;00m e:\n\u001b[1;32m    226\u001b[0m     run_manager\u001b[38;5;241m.\u001b[39mon_chain_error(e)\n\u001b[0;32m--> 227\u001b[0m     \u001b[38;5;28;01mraise\u001b[39;00m e\n\u001b[1;32m    228\u001b[0m outputs \u001b[38;5;241m=\u001b[39m \u001b[38;5;28mself\u001b[39m\u001b[38;5;241m.\u001b[39mcreate_outputs(response)\n\u001b[1;32m    229\u001b[0m run_manager\u001b[38;5;241m.\u001b[39mon_chain_end({\u001b[38;5;124m\"\u001b[39m\u001b[38;5;124moutputs\u001b[39m\u001b[38;5;124m\"\u001b[39m: outputs})\n",
      "File \u001b[0;32m~/.miniconda3/lib/python3.11/site-packages/langchain/chains/llm.py:224\u001b[0m, in \u001b[0;36mLLMChain.apply\u001b[0;34m(self, input_list, callbacks)\u001b[0m\n\u001b[1;32m    219\u001b[0m run_manager \u001b[38;5;241m=\u001b[39m callback_manager\u001b[38;5;241m.\u001b[39mon_chain_start(\n\u001b[1;32m    220\u001b[0m     dumpd(\u001b[38;5;28mself\u001b[39m),\n\u001b[1;32m    221\u001b[0m     {\u001b[38;5;124m\"\u001b[39m\u001b[38;5;124minput_list\u001b[39m\u001b[38;5;124m\"\u001b[39m: input_list},\n\u001b[1;32m    222\u001b[0m )\n\u001b[1;32m    223\u001b[0m \u001b[38;5;28;01mtry\u001b[39;00m:\n\u001b[0;32m--> 224\u001b[0m     response \u001b[38;5;241m=\u001b[39m \u001b[38;5;28;43mself\u001b[39;49m\u001b[38;5;241;43m.\u001b[39;49m\u001b[43mgenerate\u001b[49m\u001b[43m(\u001b[49m\u001b[43minput_list\u001b[49m\u001b[43m,\u001b[49m\u001b[43m \u001b[49m\u001b[43mrun_manager\u001b[49m\u001b[38;5;241;43m=\u001b[39;49m\u001b[43mrun_manager\u001b[49m\u001b[43m)\u001b[49m\n\u001b[1;32m    225\u001b[0m \u001b[38;5;28;01mexcept\u001b[39;00m \u001b[38;5;167;01mBaseException\u001b[39;00m \u001b[38;5;28;01mas\u001b[39;00m e:\n\u001b[1;32m    226\u001b[0m     run_manager\u001b[38;5;241m.\u001b[39mon_chain_error(e)\n",
      "File \u001b[0;32m~/.miniconda3/lib/python3.11/site-packages/langchain/chains/llm.py:115\u001b[0m, in \u001b[0;36mLLMChain.generate\u001b[0;34m(self, input_list, run_manager)\u001b[0m\n\u001b[1;32m    113\u001b[0m callbacks \u001b[38;5;241m=\u001b[39m run_manager\u001b[38;5;241m.\u001b[39mget_child() \u001b[38;5;28;01mif\u001b[39;00m run_manager \u001b[38;5;28;01melse\u001b[39;00m \u001b[38;5;28;01mNone\u001b[39;00m\n\u001b[1;32m    114\u001b[0m \u001b[38;5;28;01mif\u001b[39;00m \u001b[38;5;28misinstance\u001b[39m(\u001b[38;5;28mself\u001b[39m\u001b[38;5;241m.\u001b[39mllm, BaseLanguageModel):\n\u001b[0;32m--> 115\u001b[0m     \u001b[38;5;28;01mreturn\u001b[39;00m \u001b[38;5;28;43mself\u001b[39;49m\u001b[38;5;241;43m.\u001b[39;49m\u001b[43mllm\u001b[49m\u001b[38;5;241;43m.\u001b[39;49m\u001b[43mgenerate_prompt\u001b[49m\u001b[43m(\u001b[49m\n\u001b[1;32m    116\u001b[0m \u001b[43m        \u001b[49m\u001b[43mprompts\u001b[49m\u001b[43m,\u001b[49m\n\u001b[1;32m    117\u001b[0m \u001b[43m        \u001b[49m\u001b[43mstop\u001b[49m\u001b[43m,\u001b[49m\n\u001b[1;32m    118\u001b[0m \u001b[43m        \u001b[49m\u001b[43mcallbacks\u001b[49m\u001b[38;5;241;43m=\u001b[39;49m\u001b[43mcallbacks\u001b[49m\u001b[43m,\u001b[49m\n\u001b[1;32m    119\u001b[0m \u001b[43m        \u001b[49m\u001b[38;5;241;43m*\u001b[39;49m\u001b[38;5;241;43m*\u001b[39;49m\u001b[38;5;28;43mself\u001b[39;49m\u001b[38;5;241;43m.\u001b[39;49m\u001b[43mllm_kwargs\u001b[49m\u001b[43m,\u001b[49m\n\u001b[1;32m    120\u001b[0m \u001b[43m    \u001b[49m\u001b[43m)\u001b[49m\n\u001b[1;32m    121\u001b[0m \u001b[38;5;28;01melse\u001b[39;00m:\n\u001b[1;32m    122\u001b[0m     results \u001b[38;5;241m=\u001b[39m \u001b[38;5;28mself\u001b[39m\u001b[38;5;241m.\u001b[39mllm\u001b[38;5;241m.\u001b[39mbind(stop\u001b[38;5;241m=\u001b[39mstop, \u001b[38;5;241m*\u001b[39m\u001b[38;5;241m*\u001b[39m\u001b[38;5;28mself\u001b[39m\u001b[38;5;241m.\u001b[39mllm_kwargs)\u001b[38;5;241m.\u001b[39mbatch(\n\u001b[1;32m    123\u001b[0m         cast(List, prompts), {\u001b[38;5;124m\"\u001b[39m\u001b[38;5;124mcallbacks\u001b[39m\u001b[38;5;124m\"\u001b[39m: callbacks}\n\u001b[1;32m    124\u001b[0m     )\n",
      "File \u001b[0;32m~/.miniconda3/lib/python3.11/site-packages/langchain_core/language_models/chat_models.py:544\u001b[0m, in \u001b[0;36mBaseChatModel.generate_prompt\u001b[0;34m(self, prompts, stop, callbacks, **kwargs)\u001b[0m\n\u001b[1;32m    536\u001b[0m \u001b[38;5;28;01mdef\u001b[39;00m \u001b[38;5;21mgenerate_prompt\u001b[39m(\n\u001b[1;32m    537\u001b[0m     \u001b[38;5;28mself\u001b[39m,\n\u001b[1;32m    538\u001b[0m     prompts: List[PromptValue],\n\u001b[0;32m   (...)\u001b[0m\n\u001b[1;32m    541\u001b[0m     \u001b[38;5;241m*\u001b[39m\u001b[38;5;241m*\u001b[39mkwargs: Any,\n\u001b[1;32m    542\u001b[0m ) \u001b[38;5;241m-\u001b[39m\u001b[38;5;241m>\u001b[39m LLMResult:\n\u001b[1;32m    543\u001b[0m     prompt_messages \u001b[38;5;241m=\u001b[39m [p\u001b[38;5;241m.\u001b[39mto_messages() \u001b[38;5;28;01mfor\u001b[39;00m p \u001b[38;5;129;01min\u001b[39;00m prompts]\n\u001b[0;32m--> 544\u001b[0m     \u001b[38;5;28;01mreturn\u001b[39;00m \u001b[38;5;28;43mself\u001b[39;49m\u001b[38;5;241;43m.\u001b[39;49m\u001b[43mgenerate\u001b[49m\u001b[43m(\u001b[49m\u001b[43mprompt_messages\u001b[49m\u001b[43m,\u001b[49m\u001b[43m \u001b[49m\u001b[43mstop\u001b[49m\u001b[38;5;241;43m=\u001b[39;49m\u001b[43mstop\u001b[49m\u001b[43m,\u001b[49m\u001b[43m \u001b[49m\u001b[43mcallbacks\u001b[49m\u001b[38;5;241;43m=\u001b[39;49m\u001b[43mcallbacks\u001b[49m\u001b[43m,\u001b[49m\u001b[43m \u001b[49m\u001b[38;5;241;43m*\u001b[39;49m\u001b[38;5;241;43m*\u001b[39;49m\u001b[43mkwargs\u001b[49m\u001b[43m)\u001b[49m\n",
      "File \u001b[0;32m~/.miniconda3/lib/python3.11/site-packages/langchain_core/language_models/chat_models.py:408\u001b[0m, in \u001b[0;36mBaseChatModel.generate\u001b[0;34m(self, messages, stop, callbacks, tags, metadata, run_name, **kwargs)\u001b[0m\n\u001b[1;32m    406\u001b[0m         \u001b[38;5;28;01mif\u001b[39;00m run_managers:\n\u001b[1;32m    407\u001b[0m             run_managers[i]\u001b[38;5;241m.\u001b[39mon_llm_error(e, response\u001b[38;5;241m=\u001b[39mLLMResult(generations\u001b[38;5;241m=\u001b[39m[]))\n\u001b[0;32m--> 408\u001b[0m         \u001b[38;5;28;01mraise\u001b[39;00m e\n\u001b[1;32m    409\u001b[0m flattened_outputs \u001b[38;5;241m=\u001b[39m [\n\u001b[1;32m    410\u001b[0m     LLMResult(generations\u001b[38;5;241m=\u001b[39m[res\u001b[38;5;241m.\u001b[39mgenerations], llm_output\u001b[38;5;241m=\u001b[39mres\u001b[38;5;241m.\u001b[39mllm_output)\n\u001b[1;32m    411\u001b[0m     \u001b[38;5;28;01mfor\u001b[39;00m res \u001b[38;5;129;01min\u001b[39;00m results\n\u001b[1;32m    412\u001b[0m ]\n\u001b[1;32m    413\u001b[0m llm_output \u001b[38;5;241m=\u001b[39m \u001b[38;5;28mself\u001b[39m\u001b[38;5;241m.\u001b[39m_combine_llm_outputs([res\u001b[38;5;241m.\u001b[39mllm_output \u001b[38;5;28;01mfor\u001b[39;00m res \u001b[38;5;129;01min\u001b[39;00m results])\n",
      "File \u001b[0;32m~/.miniconda3/lib/python3.11/site-packages/langchain_core/language_models/chat_models.py:398\u001b[0m, in \u001b[0;36mBaseChatModel.generate\u001b[0;34m(self, messages, stop, callbacks, tags, metadata, run_name, **kwargs)\u001b[0m\n\u001b[1;32m    395\u001b[0m \u001b[38;5;28;01mfor\u001b[39;00m i, m \u001b[38;5;129;01min\u001b[39;00m \u001b[38;5;28menumerate\u001b[39m(messages):\n\u001b[1;32m    396\u001b[0m     \u001b[38;5;28;01mtry\u001b[39;00m:\n\u001b[1;32m    397\u001b[0m         results\u001b[38;5;241m.\u001b[39mappend(\n\u001b[0;32m--> 398\u001b[0m             \u001b[38;5;28;43mself\u001b[39;49m\u001b[38;5;241;43m.\u001b[39;49m\u001b[43m_generate_with_cache\u001b[49m\u001b[43m(\u001b[49m\n\u001b[1;32m    399\u001b[0m \u001b[43m                \u001b[49m\u001b[43mm\u001b[49m\u001b[43m,\u001b[49m\n\u001b[1;32m    400\u001b[0m \u001b[43m                \u001b[49m\u001b[43mstop\u001b[49m\u001b[38;5;241;43m=\u001b[39;49m\u001b[43mstop\u001b[49m\u001b[43m,\u001b[49m\n\u001b[1;32m    401\u001b[0m \u001b[43m                \u001b[49m\u001b[43mrun_manager\u001b[49m\u001b[38;5;241;43m=\u001b[39;49m\u001b[43mrun_managers\u001b[49m\u001b[43m[\u001b[49m\u001b[43mi\u001b[49m\u001b[43m]\u001b[49m\u001b[43m \u001b[49m\u001b[38;5;28;43;01mif\u001b[39;49;00m\u001b[43m \u001b[49m\u001b[43mrun_managers\u001b[49m\u001b[43m \u001b[49m\u001b[38;5;28;43;01melse\u001b[39;49;00m\u001b[43m \u001b[49m\u001b[38;5;28;43;01mNone\u001b[39;49;00m\u001b[43m,\u001b[49m\n\u001b[1;32m    402\u001b[0m \u001b[43m                \u001b[49m\u001b[38;5;241;43m*\u001b[39;49m\u001b[38;5;241;43m*\u001b[39;49m\u001b[43mkwargs\u001b[49m\u001b[43m,\u001b[49m\n\u001b[1;32m    403\u001b[0m \u001b[43m            \u001b[49m\u001b[43m)\u001b[49m\n\u001b[1;32m    404\u001b[0m         )\n\u001b[1;32m    405\u001b[0m     \u001b[38;5;28;01mexcept\u001b[39;00m \u001b[38;5;167;01mBaseException\u001b[39;00m \u001b[38;5;28;01mas\u001b[39;00m e:\n\u001b[1;32m    406\u001b[0m         \u001b[38;5;28;01mif\u001b[39;00m run_managers:\n",
      "File \u001b[0;32m~/.miniconda3/lib/python3.11/site-packages/langchain_core/language_models/chat_models.py:577\u001b[0m, in \u001b[0;36mBaseChatModel._generate_with_cache\u001b[0;34m(self, messages, stop, run_manager, **kwargs)\u001b[0m\n\u001b[1;32m    573\u001b[0m     \u001b[38;5;28;01mraise\u001b[39;00m \u001b[38;5;167;01mValueError\u001b[39;00m(\n\u001b[1;32m    574\u001b[0m         \u001b[38;5;124m\"\u001b[39m\u001b[38;5;124mAsked to cache, but no cache found at `langchain.cache`.\u001b[39m\u001b[38;5;124m\"\u001b[39m\n\u001b[1;32m    575\u001b[0m     )\n\u001b[1;32m    576\u001b[0m \u001b[38;5;28;01mif\u001b[39;00m new_arg_supported:\n\u001b[0;32m--> 577\u001b[0m     \u001b[38;5;28;01mreturn\u001b[39;00m \u001b[38;5;28;43mself\u001b[39;49m\u001b[38;5;241;43m.\u001b[39;49m\u001b[43m_generate\u001b[49m\u001b[43m(\u001b[49m\n\u001b[1;32m    578\u001b[0m \u001b[43m        \u001b[49m\u001b[43mmessages\u001b[49m\u001b[43m,\u001b[49m\u001b[43m \u001b[49m\u001b[43mstop\u001b[49m\u001b[38;5;241;43m=\u001b[39;49m\u001b[43mstop\u001b[49m\u001b[43m,\u001b[49m\u001b[43m \u001b[49m\u001b[43mrun_manager\u001b[49m\u001b[38;5;241;43m=\u001b[39;49m\u001b[43mrun_manager\u001b[49m\u001b[43m,\u001b[49m\u001b[43m \u001b[49m\u001b[38;5;241;43m*\u001b[39;49m\u001b[38;5;241;43m*\u001b[39;49m\u001b[43mkwargs\u001b[49m\n\u001b[1;32m    579\u001b[0m \u001b[43m    \u001b[49m\u001b[43m)\u001b[49m\n\u001b[1;32m    580\u001b[0m \u001b[38;5;28;01melse\u001b[39;00m:\n\u001b[1;32m    581\u001b[0m     \u001b[38;5;28;01mreturn\u001b[39;00m \u001b[38;5;28mself\u001b[39m\u001b[38;5;241m.\u001b[39m_generate(messages, stop\u001b[38;5;241m=\u001b[39mstop, \u001b[38;5;241m*\u001b[39m\u001b[38;5;241m*\u001b[39mkwargs)\n",
      "File \u001b[0;32m~/.miniconda3/lib/python3.11/site-packages/langchain_openai/chat_models/base.py:438\u001b[0m, in \u001b[0;36mChatOpenAI._generate\u001b[0;34m(self, messages, stop, run_manager, stream, **kwargs)\u001b[0m\n\u001b[1;32m    432\u001b[0m message_dicts, params \u001b[38;5;241m=\u001b[39m \u001b[38;5;28mself\u001b[39m\u001b[38;5;241m.\u001b[39m_create_message_dicts(messages, stop)\n\u001b[1;32m    433\u001b[0m params \u001b[38;5;241m=\u001b[39m {\n\u001b[1;32m    434\u001b[0m     \u001b[38;5;241m*\u001b[39m\u001b[38;5;241m*\u001b[39mparams,\n\u001b[1;32m    435\u001b[0m     \u001b[38;5;241m*\u001b[39m\u001b[38;5;241m*\u001b[39m({\u001b[38;5;124m\"\u001b[39m\u001b[38;5;124mstream\u001b[39m\u001b[38;5;124m\"\u001b[39m: stream} \u001b[38;5;28;01mif\u001b[39;00m stream \u001b[38;5;129;01mis\u001b[39;00m \u001b[38;5;129;01mnot\u001b[39;00m \u001b[38;5;28;01mNone\u001b[39;00m \u001b[38;5;28;01melse\u001b[39;00m {}),\n\u001b[1;32m    436\u001b[0m     \u001b[38;5;241m*\u001b[39m\u001b[38;5;241m*\u001b[39mkwargs,\n\u001b[1;32m    437\u001b[0m }\n\u001b[0;32m--> 438\u001b[0m response \u001b[38;5;241m=\u001b[39m \u001b[38;5;28;43mself\u001b[39;49m\u001b[38;5;241;43m.\u001b[39;49m\u001b[43mclient\u001b[49m\u001b[38;5;241;43m.\u001b[39;49m\u001b[43mcreate\u001b[49m\u001b[43m(\u001b[49m\u001b[43mmessages\u001b[49m\u001b[38;5;241;43m=\u001b[39;49m\u001b[43mmessage_dicts\u001b[49m\u001b[43m,\u001b[49m\u001b[43m \u001b[49m\u001b[38;5;241;43m*\u001b[39;49m\u001b[38;5;241;43m*\u001b[39;49m\u001b[43mparams\u001b[49m\u001b[43m)\u001b[49m\n\u001b[1;32m    439\u001b[0m \u001b[38;5;28;01mreturn\u001b[39;00m \u001b[38;5;28mself\u001b[39m\u001b[38;5;241m.\u001b[39m_create_chat_result(response)\n",
      "File \u001b[0;32m~/.miniconda3/lib/python3.11/site-packages/openai/_utils/_utils.py:271\u001b[0m, in \u001b[0;36mrequired_args.<locals>.inner.<locals>.wrapper\u001b[0;34m(*args, **kwargs)\u001b[0m\n\u001b[1;32m    269\u001b[0m             msg \u001b[38;5;241m=\u001b[39m \u001b[38;5;124mf\u001b[39m\u001b[38;5;124m\"\u001b[39m\u001b[38;5;124mMissing required argument: \u001b[39m\u001b[38;5;132;01m{\u001b[39;00mquote(missing[\u001b[38;5;241m0\u001b[39m])\u001b[38;5;132;01m}\u001b[39;00m\u001b[38;5;124m\"\u001b[39m\n\u001b[1;32m    270\u001b[0m     \u001b[38;5;28;01mraise\u001b[39;00m \u001b[38;5;167;01mTypeError\u001b[39;00m(msg)\n\u001b[0;32m--> 271\u001b[0m \u001b[38;5;28;01mreturn\u001b[39;00m \u001b[43mfunc\u001b[49m\u001b[43m(\u001b[49m\u001b[38;5;241;43m*\u001b[39;49m\u001b[43margs\u001b[49m\u001b[43m,\u001b[49m\u001b[43m \u001b[49m\u001b[38;5;241;43m*\u001b[39;49m\u001b[38;5;241;43m*\u001b[39;49m\u001b[43mkwargs\u001b[49m\u001b[43m)\u001b[49m\n",
      "File \u001b[0;32m~/.miniconda3/lib/python3.11/site-packages/openai/resources/chat/completions.py:659\u001b[0m, in \u001b[0;36mCompletions.create\u001b[0;34m(self, messages, model, frequency_penalty, function_call, functions, logit_bias, logprobs, max_tokens, n, presence_penalty, response_format, seed, stop, stream, temperature, tool_choice, tools, top_logprobs, top_p, user, extra_headers, extra_query, extra_body, timeout)\u001b[0m\n\u001b[1;32m    608\u001b[0m \u001b[38;5;129m@required_args\u001b[39m([\u001b[38;5;124m\"\u001b[39m\u001b[38;5;124mmessages\u001b[39m\u001b[38;5;124m\"\u001b[39m, \u001b[38;5;124m\"\u001b[39m\u001b[38;5;124mmodel\u001b[39m\u001b[38;5;124m\"\u001b[39m], [\u001b[38;5;124m\"\u001b[39m\u001b[38;5;124mmessages\u001b[39m\u001b[38;5;124m\"\u001b[39m, \u001b[38;5;124m\"\u001b[39m\u001b[38;5;124mmodel\u001b[39m\u001b[38;5;124m\"\u001b[39m, \u001b[38;5;124m\"\u001b[39m\u001b[38;5;124mstream\u001b[39m\u001b[38;5;124m\"\u001b[39m])\n\u001b[1;32m    609\u001b[0m \u001b[38;5;28;01mdef\u001b[39;00m \u001b[38;5;21mcreate\u001b[39m(\n\u001b[1;32m    610\u001b[0m     \u001b[38;5;28mself\u001b[39m,\n\u001b[0;32m   (...)\u001b[0m\n\u001b[1;32m    657\u001b[0m     timeout: \u001b[38;5;28mfloat\u001b[39m \u001b[38;5;241m|\u001b[39m httpx\u001b[38;5;241m.\u001b[39mTimeout \u001b[38;5;241m|\u001b[39m \u001b[38;5;28;01mNone\u001b[39;00m \u001b[38;5;241m|\u001b[39m NotGiven \u001b[38;5;241m=\u001b[39m NOT_GIVEN,\n\u001b[1;32m    658\u001b[0m ) \u001b[38;5;241m-\u001b[39m\u001b[38;5;241m>\u001b[39m ChatCompletion \u001b[38;5;241m|\u001b[39m Stream[ChatCompletionChunk]:\n\u001b[0;32m--> 659\u001b[0m     \u001b[38;5;28;01mreturn\u001b[39;00m \u001b[38;5;28;43mself\u001b[39;49m\u001b[38;5;241;43m.\u001b[39;49m\u001b[43m_post\u001b[49m\u001b[43m(\u001b[49m\n\u001b[1;32m    660\u001b[0m \u001b[43m        \u001b[49m\u001b[38;5;124;43m\"\u001b[39;49m\u001b[38;5;124;43m/chat/completions\u001b[39;49m\u001b[38;5;124;43m\"\u001b[39;49m\u001b[43m,\u001b[49m\n\u001b[1;32m    661\u001b[0m \u001b[43m        \u001b[49m\u001b[43mbody\u001b[49m\u001b[38;5;241;43m=\u001b[39;49m\u001b[43mmaybe_transform\u001b[49m\u001b[43m(\u001b[49m\n\u001b[1;32m    662\u001b[0m \u001b[43m            \u001b[49m\u001b[43m{\u001b[49m\n\u001b[1;32m    663\u001b[0m \u001b[43m                \u001b[49m\u001b[38;5;124;43m\"\u001b[39;49m\u001b[38;5;124;43mmessages\u001b[39;49m\u001b[38;5;124;43m\"\u001b[39;49m\u001b[43m:\u001b[49m\u001b[43m \u001b[49m\u001b[43mmessages\u001b[49m\u001b[43m,\u001b[49m\n\u001b[1;32m    664\u001b[0m \u001b[43m                \u001b[49m\u001b[38;5;124;43m\"\u001b[39;49m\u001b[38;5;124;43mmodel\u001b[39;49m\u001b[38;5;124;43m\"\u001b[39;49m\u001b[43m:\u001b[49m\u001b[43m \u001b[49m\u001b[43mmodel\u001b[49m\u001b[43m,\u001b[49m\n\u001b[1;32m    665\u001b[0m \u001b[43m                \u001b[49m\u001b[38;5;124;43m\"\u001b[39;49m\u001b[38;5;124;43mfrequency_penalty\u001b[39;49m\u001b[38;5;124;43m\"\u001b[39;49m\u001b[43m:\u001b[49m\u001b[43m \u001b[49m\u001b[43mfrequency_penalty\u001b[49m\u001b[43m,\u001b[49m\n\u001b[1;32m    666\u001b[0m \u001b[43m                \u001b[49m\u001b[38;5;124;43m\"\u001b[39;49m\u001b[38;5;124;43mfunction_call\u001b[39;49m\u001b[38;5;124;43m\"\u001b[39;49m\u001b[43m:\u001b[49m\u001b[43m \u001b[49m\u001b[43mfunction_call\u001b[49m\u001b[43m,\u001b[49m\n\u001b[1;32m    667\u001b[0m \u001b[43m                \u001b[49m\u001b[38;5;124;43m\"\u001b[39;49m\u001b[38;5;124;43mfunctions\u001b[39;49m\u001b[38;5;124;43m\"\u001b[39;49m\u001b[43m:\u001b[49m\u001b[43m \u001b[49m\u001b[43mfunctions\u001b[49m\u001b[43m,\u001b[49m\n\u001b[1;32m    668\u001b[0m \u001b[43m                \u001b[49m\u001b[38;5;124;43m\"\u001b[39;49m\u001b[38;5;124;43mlogit_bias\u001b[39;49m\u001b[38;5;124;43m\"\u001b[39;49m\u001b[43m:\u001b[49m\u001b[43m \u001b[49m\u001b[43mlogit_bias\u001b[49m\u001b[43m,\u001b[49m\n\u001b[1;32m    669\u001b[0m \u001b[43m                \u001b[49m\u001b[38;5;124;43m\"\u001b[39;49m\u001b[38;5;124;43mlogprobs\u001b[39;49m\u001b[38;5;124;43m\"\u001b[39;49m\u001b[43m:\u001b[49m\u001b[43m \u001b[49m\u001b[43mlogprobs\u001b[49m\u001b[43m,\u001b[49m\n\u001b[1;32m    670\u001b[0m \u001b[43m                \u001b[49m\u001b[38;5;124;43m\"\u001b[39;49m\u001b[38;5;124;43mmax_tokens\u001b[39;49m\u001b[38;5;124;43m\"\u001b[39;49m\u001b[43m:\u001b[49m\u001b[43m \u001b[49m\u001b[43mmax_tokens\u001b[49m\u001b[43m,\u001b[49m\n\u001b[1;32m    671\u001b[0m \u001b[43m                \u001b[49m\u001b[38;5;124;43m\"\u001b[39;49m\u001b[38;5;124;43mn\u001b[39;49m\u001b[38;5;124;43m\"\u001b[39;49m\u001b[43m:\u001b[49m\u001b[43m \u001b[49m\u001b[43mn\u001b[49m\u001b[43m,\u001b[49m\n\u001b[1;32m    672\u001b[0m \u001b[43m                \u001b[49m\u001b[38;5;124;43m\"\u001b[39;49m\u001b[38;5;124;43mpresence_penalty\u001b[39;49m\u001b[38;5;124;43m\"\u001b[39;49m\u001b[43m:\u001b[49m\u001b[43m \u001b[49m\u001b[43mpresence_penalty\u001b[49m\u001b[43m,\u001b[49m\n\u001b[1;32m    673\u001b[0m \u001b[43m                \u001b[49m\u001b[38;5;124;43m\"\u001b[39;49m\u001b[38;5;124;43mresponse_format\u001b[39;49m\u001b[38;5;124;43m\"\u001b[39;49m\u001b[43m:\u001b[49m\u001b[43m \u001b[49m\u001b[43mresponse_format\u001b[49m\u001b[43m,\u001b[49m\n\u001b[1;32m    674\u001b[0m \u001b[43m                \u001b[49m\u001b[38;5;124;43m\"\u001b[39;49m\u001b[38;5;124;43mseed\u001b[39;49m\u001b[38;5;124;43m\"\u001b[39;49m\u001b[43m:\u001b[49m\u001b[43m \u001b[49m\u001b[43mseed\u001b[49m\u001b[43m,\u001b[49m\n\u001b[1;32m    675\u001b[0m \u001b[43m                \u001b[49m\u001b[38;5;124;43m\"\u001b[39;49m\u001b[38;5;124;43mstop\u001b[39;49m\u001b[38;5;124;43m\"\u001b[39;49m\u001b[43m:\u001b[49m\u001b[43m \u001b[49m\u001b[43mstop\u001b[49m\u001b[43m,\u001b[49m\n\u001b[1;32m    676\u001b[0m \u001b[43m                \u001b[49m\u001b[38;5;124;43m\"\u001b[39;49m\u001b[38;5;124;43mstream\u001b[39;49m\u001b[38;5;124;43m\"\u001b[39;49m\u001b[43m:\u001b[49m\u001b[43m \u001b[49m\u001b[43mstream\u001b[49m\u001b[43m,\u001b[49m\n\u001b[1;32m    677\u001b[0m \u001b[43m                \u001b[49m\u001b[38;5;124;43m\"\u001b[39;49m\u001b[38;5;124;43mtemperature\u001b[39;49m\u001b[38;5;124;43m\"\u001b[39;49m\u001b[43m:\u001b[49m\u001b[43m \u001b[49m\u001b[43mtemperature\u001b[49m\u001b[43m,\u001b[49m\n\u001b[1;32m    678\u001b[0m \u001b[43m                \u001b[49m\u001b[38;5;124;43m\"\u001b[39;49m\u001b[38;5;124;43mtool_choice\u001b[39;49m\u001b[38;5;124;43m\"\u001b[39;49m\u001b[43m:\u001b[49m\u001b[43m \u001b[49m\u001b[43mtool_choice\u001b[49m\u001b[43m,\u001b[49m\n\u001b[1;32m    679\u001b[0m \u001b[43m                \u001b[49m\u001b[38;5;124;43m\"\u001b[39;49m\u001b[38;5;124;43mtools\u001b[39;49m\u001b[38;5;124;43m\"\u001b[39;49m\u001b[43m:\u001b[49m\u001b[43m \u001b[49m\u001b[43mtools\u001b[49m\u001b[43m,\u001b[49m\n\u001b[1;32m    680\u001b[0m \u001b[43m                \u001b[49m\u001b[38;5;124;43m\"\u001b[39;49m\u001b[38;5;124;43mtop_logprobs\u001b[39;49m\u001b[38;5;124;43m\"\u001b[39;49m\u001b[43m:\u001b[49m\u001b[43m \u001b[49m\u001b[43mtop_logprobs\u001b[49m\u001b[43m,\u001b[49m\n\u001b[1;32m    681\u001b[0m \u001b[43m                \u001b[49m\u001b[38;5;124;43m\"\u001b[39;49m\u001b[38;5;124;43mtop_p\u001b[39;49m\u001b[38;5;124;43m\"\u001b[39;49m\u001b[43m:\u001b[49m\u001b[43m \u001b[49m\u001b[43mtop_p\u001b[49m\u001b[43m,\u001b[49m\n\u001b[1;32m    682\u001b[0m \u001b[43m                \u001b[49m\u001b[38;5;124;43m\"\u001b[39;49m\u001b[38;5;124;43muser\u001b[39;49m\u001b[38;5;124;43m\"\u001b[39;49m\u001b[43m:\u001b[49m\u001b[43m \u001b[49m\u001b[43muser\u001b[49m\u001b[43m,\u001b[49m\n\u001b[1;32m    683\u001b[0m \u001b[43m            \u001b[49m\u001b[43m}\u001b[49m\u001b[43m,\u001b[49m\n\u001b[1;32m    684\u001b[0m \u001b[43m            \u001b[49m\u001b[43mcompletion_create_params\u001b[49m\u001b[38;5;241;43m.\u001b[39;49m\u001b[43mCompletionCreateParams\u001b[49m\u001b[43m,\u001b[49m\n\u001b[1;32m    685\u001b[0m \u001b[43m        \u001b[49m\u001b[43m)\u001b[49m\u001b[43m,\u001b[49m\n\u001b[1;32m    686\u001b[0m \u001b[43m        \u001b[49m\u001b[43moptions\u001b[49m\u001b[38;5;241;43m=\u001b[39;49m\u001b[43mmake_request_options\u001b[49m\u001b[43m(\u001b[49m\n\u001b[1;32m    687\u001b[0m \u001b[43m            \u001b[49m\u001b[43mextra_headers\u001b[49m\u001b[38;5;241;43m=\u001b[39;49m\u001b[43mextra_headers\u001b[49m\u001b[43m,\u001b[49m\u001b[43m \u001b[49m\u001b[43mextra_query\u001b[49m\u001b[38;5;241;43m=\u001b[39;49m\u001b[43mextra_query\u001b[49m\u001b[43m,\u001b[49m\u001b[43m \u001b[49m\u001b[43mextra_body\u001b[49m\u001b[38;5;241;43m=\u001b[39;49m\u001b[43mextra_body\u001b[49m\u001b[43m,\u001b[49m\u001b[43m \u001b[49m\u001b[43mtimeout\u001b[49m\u001b[38;5;241;43m=\u001b[39;49m\u001b[43mtimeout\u001b[49m\n\u001b[1;32m    688\u001b[0m \u001b[43m        \u001b[49m\u001b[43m)\u001b[49m\u001b[43m,\u001b[49m\n\u001b[1;32m    689\u001b[0m \u001b[43m        \u001b[49m\u001b[43mcast_to\u001b[49m\u001b[38;5;241;43m=\u001b[39;49m\u001b[43mChatCompletion\u001b[49m\u001b[43m,\u001b[49m\n\u001b[1;32m    690\u001b[0m \u001b[43m        \u001b[49m\u001b[43mstream\u001b[49m\u001b[38;5;241;43m=\u001b[39;49m\u001b[43mstream\u001b[49m\u001b[43m \u001b[49m\u001b[38;5;129;43;01mor\u001b[39;49;00m\u001b[43m \u001b[49m\u001b[38;5;28;43;01mFalse\u001b[39;49;00m\u001b[43m,\u001b[49m\n\u001b[1;32m    691\u001b[0m \u001b[43m        \u001b[49m\u001b[43mstream_cls\u001b[49m\u001b[38;5;241;43m=\u001b[39;49m\u001b[43mStream\u001b[49m\u001b[43m[\u001b[49m\u001b[43mChatCompletionChunk\u001b[49m\u001b[43m]\u001b[49m\u001b[43m,\u001b[49m\n\u001b[1;32m    692\u001b[0m \u001b[43m    \u001b[49m\u001b[43m)\u001b[49m\n",
      "File \u001b[0;32m~/.miniconda3/lib/python3.11/site-packages/openai/_base_client.py:1200\u001b[0m, in \u001b[0;36mSyncAPIClient.post\u001b[0;34m(self, path, cast_to, body, options, files, stream, stream_cls)\u001b[0m\n\u001b[1;32m   1186\u001b[0m \u001b[38;5;28;01mdef\u001b[39;00m \u001b[38;5;21mpost\u001b[39m(\n\u001b[1;32m   1187\u001b[0m     \u001b[38;5;28mself\u001b[39m,\n\u001b[1;32m   1188\u001b[0m     path: \u001b[38;5;28mstr\u001b[39m,\n\u001b[0;32m   (...)\u001b[0m\n\u001b[1;32m   1195\u001b[0m     stream_cls: \u001b[38;5;28mtype\u001b[39m[_StreamT] \u001b[38;5;241m|\u001b[39m \u001b[38;5;28;01mNone\u001b[39;00m \u001b[38;5;241m=\u001b[39m \u001b[38;5;28;01mNone\u001b[39;00m,\n\u001b[1;32m   1196\u001b[0m ) \u001b[38;5;241m-\u001b[39m\u001b[38;5;241m>\u001b[39m ResponseT \u001b[38;5;241m|\u001b[39m _StreamT:\n\u001b[1;32m   1197\u001b[0m     opts \u001b[38;5;241m=\u001b[39m FinalRequestOptions\u001b[38;5;241m.\u001b[39mconstruct(\n\u001b[1;32m   1198\u001b[0m         method\u001b[38;5;241m=\u001b[39m\u001b[38;5;124m\"\u001b[39m\u001b[38;5;124mpost\u001b[39m\u001b[38;5;124m\"\u001b[39m, url\u001b[38;5;241m=\u001b[39mpath, json_data\u001b[38;5;241m=\u001b[39mbody, files\u001b[38;5;241m=\u001b[39mto_httpx_files(files), \u001b[38;5;241m*\u001b[39m\u001b[38;5;241m*\u001b[39moptions\n\u001b[1;32m   1199\u001b[0m     )\n\u001b[0;32m-> 1200\u001b[0m     \u001b[38;5;28;01mreturn\u001b[39;00m cast(ResponseT, \u001b[38;5;28;43mself\u001b[39;49m\u001b[38;5;241;43m.\u001b[39;49m\u001b[43mrequest\u001b[49m\u001b[43m(\u001b[49m\u001b[43mcast_to\u001b[49m\u001b[43m,\u001b[49m\u001b[43m \u001b[49m\u001b[43mopts\u001b[49m\u001b[43m,\u001b[49m\u001b[43m \u001b[49m\u001b[43mstream\u001b[49m\u001b[38;5;241;43m=\u001b[39;49m\u001b[43mstream\u001b[49m\u001b[43m,\u001b[49m\u001b[43m \u001b[49m\u001b[43mstream_cls\u001b[49m\u001b[38;5;241;43m=\u001b[39;49m\u001b[43mstream_cls\u001b[49m\u001b[43m)\u001b[49m)\n",
      "File \u001b[0;32m~/.miniconda3/lib/python3.11/site-packages/openai/_base_client.py:889\u001b[0m, in \u001b[0;36mSyncAPIClient.request\u001b[0;34m(self, cast_to, options, remaining_retries, stream, stream_cls)\u001b[0m\n\u001b[1;32m    880\u001b[0m \u001b[38;5;28;01mdef\u001b[39;00m \u001b[38;5;21mrequest\u001b[39m(\n\u001b[1;32m    881\u001b[0m     \u001b[38;5;28mself\u001b[39m,\n\u001b[1;32m    882\u001b[0m     cast_to: Type[ResponseT],\n\u001b[0;32m   (...)\u001b[0m\n\u001b[1;32m    887\u001b[0m     stream_cls: \u001b[38;5;28mtype\u001b[39m[_StreamT] \u001b[38;5;241m|\u001b[39m \u001b[38;5;28;01mNone\u001b[39;00m \u001b[38;5;241m=\u001b[39m \u001b[38;5;28;01mNone\u001b[39;00m,\n\u001b[1;32m    888\u001b[0m ) \u001b[38;5;241m-\u001b[39m\u001b[38;5;241m>\u001b[39m ResponseT \u001b[38;5;241m|\u001b[39m _StreamT:\n\u001b[0;32m--> 889\u001b[0m     \u001b[38;5;28;01mreturn\u001b[39;00m \u001b[38;5;28;43mself\u001b[39;49m\u001b[38;5;241;43m.\u001b[39;49m\u001b[43m_request\u001b[49m\u001b[43m(\u001b[49m\n\u001b[1;32m    890\u001b[0m \u001b[43m        \u001b[49m\u001b[43mcast_to\u001b[49m\u001b[38;5;241;43m=\u001b[39;49m\u001b[43mcast_to\u001b[49m\u001b[43m,\u001b[49m\n\u001b[1;32m    891\u001b[0m \u001b[43m        \u001b[49m\u001b[43moptions\u001b[49m\u001b[38;5;241;43m=\u001b[39;49m\u001b[43moptions\u001b[49m\u001b[43m,\u001b[49m\n\u001b[1;32m    892\u001b[0m \u001b[43m        \u001b[49m\u001b[43mstream\u001b[49m\u001b[38;5;241;43m=\u001b[39;49m\u001b[43mstream\u001b[49m\u001b[43m,\u001b[49m\n\u001b[1;32m    893\u001b[0m \u001b[43m        \u001b[49m\u001b[43mstream_cls\u001b[49m\u001b[38;5;241;43m=\u001b[39;49m\u001b[43mstream_cls\u001b[49m\u001b[43m,\u001b[49m\n\u001b[1;32m    894\u001b[0m \u001b[43m        \u001b[49m\u001b[43mremaining_retries\u001b[49m\u001b[38;5;241;43m=\u001b[39;49m\u001b[43mremaining_retries\u001b[49m\u001b[43m,\u001b[49m\n\u001b[1;32m    895\u001b[0m \u001b[43m    \u001b[49m\u001b[43m)\u001b[49m\n",
      "File \u001b[0;32m~/.miniconda3/lib/python3.11/site-packages/openai/_base_client.py:965\u001b[0m, in \u001b[0;36mSyncAPIClient._request\u001b[0;34m(self, cast_to, options, remaining_retries, stream, stream_cls)\u001b[0m\n\u001b[1;32m    963\u001b[0m \u001b[38;5;28;01mif\u001b[39;00m retries \u001b[38;5;241m>\u001b[39m \u001b[38;5;241m0\u001b[39m \u001b[38;5;129;01mand\u001b[39;00m \u001b[38;5;28mself\u001b[39m\u001b[38;5;241m.\u001b[39m_should_retry(err\u001b[38;5;241m.\u001b[39mresponse):\n\u001b[1;32m    964\u001b[0m     err\u001b[38;5;241m.\u001b[39mresponse\u001b[38;5;241m.\u001b[39mclose()\n\u001b[0;32m--> 965\u001b[0m     \u001b[38;5;28;01mreturn\u001b[39;00m \u001b[38;5;28;43mself\u001b[39;49m\u001b[38;5;241;43m.\u001b[39;49m\u001b[43m_retry_request\u001b[49m\u001b[43m(\u001b[49m\n\u001b[1;32m    966\u001b[0m \u001b[43m        \u001b[49m\u001b[43moptions\u001b[49m\u001b[43m,\u001b[49m\n\u001b[1;32m    967\u001b[0m \u001b[43m        \u001b[49m\u001b[43mcast_to\u001b[49m\u001b[43m,\u001b[49m\n\u001b[1;32m    968\u001b[0m \u001b[43m        \u001b[49m\u001b[43mretries\u001b[49m\u001b[43m,\u001b[49m\n\u001b[1;32m    969\u001b[0m \u001b[43m        \u001b[49m\u001b[43merr\u001b[49m\u001b[38;5;241;43m.\u001b[39;49m\u001b[43mresponse\u001b[49m\u001b[38;5;241;43m.\u001b[39;49m\u001b[43mheaders\u001b[49m\u001b[43m,\u001b[49m\n\u001b[1;32m    970\u001b[0m \u001b[43m        \u001b[49m\u001b[43mstream\u001b[49m\u001b[38;5;241;43m=\u001b[39;49m\u001b[43mstream\u001b[49m\u001b[43m,\u001b[49m\n\u001b[1;32m    971\u001b[0m \u001b[43m        \u001b[49m\u001b[43mstream_cls\u001b[49m\u001b[38;5;241;43m=\u001b[39;49m\u001b[43mstream_cls\u001b[49m\u001b[43m,\u001b[49m\n\u001b[1;32m    972\u001b[0m \u001b[43m    \u001b[49m\u001b[43m)\u001b[49m\n\u001b[1;32m    974\u001b[0m \u001b[38;5;66;03m# If the response is streamed then we need to explicitly read the response\u001b[39;00m\n\u001b[1;32m    975\u001b[0m \u001b[38;5;66;03m# to completion before attempting to access the response text.\u001b[39;00m\n\u001b[1;32m    976\u001b[0m \u001b[38;5;28;01mif\u001b[39;00m \u001b[38;5;129;01mnot\u001b[39;00m err\u001b[38;5;241m.\u001b[39mresponse\u001b[38;5;241m.\u001b[39mis_closed:\n",
      "File \u001b[0;32m~/.miniconda3/lib/python3.11/site-packages/openai/_base_client.py:1013\u001b[0m, in \u001b[0;36mSyncAPIClient._retry_request\u001b[0;34m(self, options, cast_to, remaining_retries, response_headers, stream, stream_cls)\u001b[0m\n\u001b[1;32m   1009\u001b[0m \u001b[38;5;66;03m# In a synchronous context we are blocking the entire thread. Up to the library user to run the client in a\u001b[39;00m\n\u001b[1;32m   1010\u001b[0m \u001b[38;5;66;03m# different thread if necessary.\u001b[39;00m\n\u001b[1;32m   1011\u001b[0m time\u001b[38;5;241m.\u001b[39msleep(timeout)\n\u001b[0;32m-> 1013\u001b[0m \u001b[38;5;28;01mreturn\u001b[39;00m \u001b[38;5;28;43mself\u001b[39;49m\u001b[38;5;241;43m.\u001b[39;49m\u001b[43m_request\u001b[49m\u001b[43m(\u001b[49m\n\u001b[1;32m   1014\u001b[0m \u001b[43m    \u001b[49m\u001b[43moptions\u001b[49m\u001b[38;5;241;43m=\u001b[39;49m\u001b[43moptions\u001b[49m\u001b[43m,\u001b[49m\n\u001b[1;32m   1015\u001b[0m \u001b[43m    \u001b[49m\u001b[43mcast_to\u001b[49m\u001b[38;5;241;43m=\u001b[39;49m\u001b[43mcast_to\u001b[49m\u001b[43m,\u001b[49m\n\u001b[1;32m   1016\u001b[0m \u001b[43m    \u001b[49m\u001b[43mremaining_retries\u001b[49m\u001b[38;5;241;43m=\u001b[39;49m\u001b[43mremaining\u001b[49m\u001b[43m,\u001b[49m\n\u001b[1;32m   1017\u001b[0m \u001b[43m    \u001b[49m\u001b[43mstream\u001b[49m\u001b[38;5;241;43m=\u001b[39;49m\u001b[43mstream\u001b[49m\u001b[43m,\u001b[49m\n\u001b[1;32m   1018\u001b[0m \u001b[43m    \u001b[49m\u001b[43mstream_cls\u001b[49m\u001b[38;5;241;43m=\u001b[39;49m\u001b[43mstream_cls\u001b[49m\u001b[43m,\u001b[49m\n\u001b[1;32m   1019\u001b[0m \u001b[43m\u001b[49m\u001b[43m)\u001b[49m\n",
      "File \u001b[0;32m~/.miniconda3/lib/python3.11/site-packages/openai/_base_client.py:965\u001b[0m, in \u001b[0;36mSyncAPIClient._request\u001b[0;34m(self, cast_to, options, remaining_retries, stream, stream_cls)\u001b[0m\n\u001b[1;32m    963\u001b[0m \u001b[38;5;28;01mif\u001b[39;00m retries \u001b[38;5;241m>\u001b[39m \u001b[38;5;241m0\u001b[39m \u001b[38;5;129;01mand\u001b[39;00m \u001b[38;5;28mself\u001b[39m\u001b[38;5;241m.\u001b[39m_should_retry(err\u001b[38;5;241m.\u001b[39mresponse):\n\u001b[1;32m    964\u001b[0m     err\u001b[38;5;241m.\u001b[39mresponse\u001b[38;5;241m.\u001b[39mclose()\n\u001b[0;32m--> 965\u001b[0m     \u001b[38;5;28;01mreturn\u001b[39;00m \u001b[38;5;28;43mself\u001b[39;49m\u001b[38;5;241;43m.\u001b[39;49m\u001b[43m_retry_request\u001b[49m\u001b[43m(\u001b[49m\n\u001b[1;32m    966\u001b[0m \u001b[43m        \u001b[49m\u001b[43moptions\u001b[49m\u001b[43m,\u001b[49m\n\u001b[1;32m    967\u001b[0m \u001b[43m        \u001b[49m\u001b[43mcast_to\u001b[49m\u001b[43m,\u001b[49m\n\u001b[1;32m    968\u001b[0m \u001b[43m        \u001b[49m\u001b[43mretries\u001b[49m\u001b[43m,\u001b[49m\n\u001b[1;32m    969\u001b[0m \u001b[43m        \u001b[49m\u001b[43merr\u001b[49m\u001b[38;5;241;43m.\u001b[39;49m\u001b[43mresponse\u001b[49m\u001b[38;5;241;43m.\u001b[39;49m\u001b[43mheaders\u001b[49m\u001b[43m,\u001b[49m\n\u001b[1;32m    970\u001b[0m \u001b[43m        \u001b[49m\u001b[43mstream\u001b[49m\u001b[38;5;241;43m=\u001b[39;49m\u001b[43mstream\u001b[49m\u001b[43m,\u001b[49m\n\u001b[1;32m    971\u001b[0m \u001b[43m        \u001b[49m\u001b[43mstream_cls\u001b[49m\u001b[38;5;241;43m=\u001b[39;49m\u001b[43mstream_cls\u001b[49m\u001b[43m,\u001b[49m\n\u001b[1;32m    972\u001b[0m \u001b[43m    \u001b[49m\u001b[43m)\u001b[49m\n\u001b[1;32m    974\u001b[0m \u001b[38;5;66;03m# If the response is streamed then we need to explicitly read the response\u001b[39;00m\n\u001b[1;32m    975\u001b[0m \u001b[38;5;66;03m# to completion before attempting to access the response text.\u001b[39;00m\n\u001b[1;32m    976\u001b[0m \u001b[38;5;28;01mif\u001b[39;00m \u001b[38;5;129;01mnot\u001b[39;00m err\u001b[38;5;241m.\u001b[39mresponse\u001b[38;5;241m.\u001b[39mis_closed:\n",
      "File \u001b[0;32m~/.miniconda3/lib/python3.11/site-packages/openai/_base_client.py:1013\u001b[0m, in \u001b[0;36mSyncAPIClient._retry_request\u001b[0;34m(self, options, cast_to, remaining_retries, response_headers, stream, stream_cls)\u001b[0m\n\u001b[1;32m   1009\u001b[0m \u001b[38;5;66;03m# In a synchronous context we are blocking the entire thread. Up to the library user to run the client in a\u001b[39;00m\n\u001b[1;32m   1010\u001b[0m \u001b[38;5;66;03m# different thread if necessary.\u001b[39;00m\n\u001b[1;32m   1011\u001b[0m time\u001b[38;5;241m.\u001b[39msleep(timeout)\n\u001b[0;32m-> 1013\u001b[0m \u001b[38;5;28;01mreturn\u001b[39;00m \u001b[38;5;28;43mself\u001b[39;49m\u001b[38;5;241;43m.\u001b[39;49m\u001b[43m_request\u001b[49m\u001b[43m(\u001b[49m\n\u001b[1;32m   1014\u001b[0m \u001b[43m    \u001b[49m\u001b[43moptions\u001b[49m\u001b[38;5;241;43m=\u001b[39;49m\u001b[43moptions\u001b[49m\u001b[43m,\u001b[49m\n\u001b[1;32m   1015\u001b[0m \u001b[43m    \u001b[49m\u001b[43mcast_to\u001b[49m\u001b[38;5;241;43m=\u001b[39;49m\u001b[43mcast_to\u001b[49m\u001b[43m,\u001b[49m\n\u001b[1;32m   1016\u001b[0m \u001b[43m    \u001b[49m\u001b[43mremaining_retries\u001b[49m\u001b[38;5;241;43m=\u001b[39;49m\u001b[43mremaining\u001b[49m\u001b[43m,\u001b[49m\n\u001b[1;32m   1017\u001b[0m \u001b[43m    \u001b[49m\u001b[43mstream\u001b[49m\u001b[38;5;241;43m=\u001b[39;49m\u001b[43mstream\u001b[49m\u001b[43m,\u001b[49m\n\u001b[1;32m   1018\u001b[0m \u001b[43m    \u001b[49m\u001b[43mstream_cls\u001b[49m\u001b[38;5;241;43m=\u001b[39;49m\u001b[43mstream_cls\u001b[49m\u001b[43m,\u001b[49m\n\u001b[1;32m   1019\u001b[0m \u001b[43m\u001b[49m\u001b[43m)\u001b[49m\n",
      "File \u001b[0;32m~/.miniconda3/lib/python3.11/site-packages/openai/_base_client.py:980\u001b[0m, in \u001b[0;36mSyncAPIClient._request\u001b[0;34m(self, cast_to, options, remaining_retries, stream, stream_cls)\u001b[0m\n\u001b[1;32m    977\u001b[0m         err\u001b[38;5;241m.\u001b[39mresponse\u001b[38;5;241m.\u001b[39mread()\n\u001b[1;32m    979\u001b[0m     log\u001b[38;5;241m.\u001b[39mdebug(\u001b[38;5;124m\"\u001b[39m\u001b[38;5;124mRe-raising status error\u001b[39m\u001b[38;5;124m\"\u001b[39m)\n\u001b[0;32m--> 980\u001b[0m     \u001b[38;5;28;01mraise\u001b[39;00m \u001b[38;5;28mself\u001b[39m\u001b[38;5;241m.\u001b[39m_make_status_error_from_response(err\u001b[38;5;241m.\u001b[39mresponse) \u001b[38;5;28;01mfrom\u001b[39;00m \u001b[38;5;28;01mNone\u001b[39;00m\n\u001b[1;32m    982\u001b[0m \u001b[38;5;28;01mreturn\u001b[39;00m \u001b[38;5;28mself\u001b[39m\u001b[38;5;241m.\u001b[39m_process_response(\n\u001b[1;32m    983\u001b[0m     cast_to\u001b[38;5;241m=\u001b[39mcast_to,\n\u001b[1;32m    984\u001b[0m     options\u001b[38;5;241m=\u001b[39moptions,\n\u001b[0;32m   (...)\u001b[0m\n\u001b[1;32m    987\u001b[0m     stream_cls\u001b[38;5;241m=\u001b[39mstream_cls,\n\u001b[1;32m    988\u001b[0m )\n",
      "\u001b[0;31mBadRequestError\u001b[0m: Error code: 400 - {'object': 'error', 'message': 'Server disconnected', 'code': 50001}"
     ]
    }
   ],
   "source": [
    "keywords = map_reduce_chain.invoke(docs_splitted[0:10])\n",
    "# keywords = map_reduce_chain.invoke(docs_splitted[0:10], verbose=True)"
   ]
  },
  {
   "cell_type": "code",
   "execution_count": null,
   "id": "dc4965b8-dfdc-4629-ae11-8c3898e09047",
   "metadata": {},
   "outputs": [],
   "source": [
    "print(keywords['output_text'])"
   ]
  },
  {
   "cell_type": "code",
   "execution_count": null,
   "id": "ff6d5e77-c628-4d97-8d13-68bd6a0a9205",
   "metadata": {},
   "outputs": [],
   "source": []
  },
  {
   "cell_type": "code",
   "execution_count": null,
   "id": "1f09a7ea-7995-4faf-8cbe-76f069c1d442",
   "metadata": {},
   "outputs": [],
   "source": []
  },
  {
   "cell_type": "code",
   "execution_count": 1,
   "id": "23b71ee5",
   "metadata": {},
   "outputs": [],
   "source": [
    "# Credits : \n",
    "# https://github.com/lovelynrose/chatgpt/blob/main/mapreduce_keyword_extract.ipynb"
   ]
  },
  {
   "cell_type": "code",
   "execution_count": 2,
   "id": "bc79355b",
   "metadata": {},
   "outputs": [],
   "source": [
    "from langchain import PromptTemplate\n",
    "# from langchain.chat_models import ChatOpenAI\n",
    "from langchain_openai import ChatOpenAI\n",
    "from langchain.chains.mapreduce import MapReduceChain\n",
    "from langchain.text_splitter import CharacterTextSplitter\n",
    "from langchain.chains import ReduceDocumentsChain, MapReduceDocumentsChain, StuffDocumentsChain\n",
    "from langchain.chains import LLMChain\n",
    "from langchain.output_parsers import CommaSeparatedListOutputParser\n",
    "from langchain.docstore.document import Document\n",
    "import os\n",
    "# import promptlayer\n",
    "import pandas as pd"
   ]
  },
  {
   "cell_type": "code",
   "execution_count": 3,
   "id": "a1b43341",
   "metadata": {},
   "outputs": [],
   "source": [
    "from pathlib import Path\n",
    "import json"
   ]
  },
  {
   "cell_type": "code",
   "execution_count": 4,
   "id": "496f84c4",
   "metadata": {},
   "outputs": [
    {
     "data": {
      "text/plain": [
       "'0.1.7'"
      ]
     },
     "execution_count": 4,
     "metadata": {},
     "output_type": "execute_result"
    }
   ],
   "source": [
    "import langchain\n",
    "langchain.__version__"
   ]
  },
  {
   "cell_type": "markdown",
   "id": "851a4eb1",
   "metadata": {},
   "source": [
    "# Parameters"
   ]
  },
  {
   "cell_type": "code",
   "execution_count": 5,
   "id": "9e5ad4a3",
   "metadata": {},
   "outputs": [
    {
     "name": "stdout",
     "output_type": "stream",
     "text": [
      "env: OPENAI_API_BASE=https://api-vicuna.c0.ns1lab.net/v1\n"
     ]
    }
   ],
   "source": [
    "%env OPENAI_API_BASE=https://api-vicuna.c0.ns1lab.net/v1"
   ]
  },
  {
   "cell_type": "code",
   "execution_count": 6,
   "id": "66ec448c",
   "metadata": {},
   "outputs": [
    {
     "name": "stdout",
     "output_type": "stream",
     "text": [
      "env: OPENAI_API_KEY=\"\"\n"
     ]
    }
   ],
   "source": [
    "%env OPENAI_API_KEY=\"\""
   ]
  },
  {
   "cell_type": "code",
   "execution_count": 7,
   "id": "e1307990",
   "metadata": {},
   "outputs": [
    {
     "name": "stdout",
     "output_type": "stream",
     "text": [
      "env: LANGCHAIN_TRACING_V2=true\n"
     ]
    }
   ],
   "source": [
    "%env LANGCHAIN_TRACING_V2=true"
   ]
  },
  {
   "cell_type": "code",
   "execution_count": 8,
   "id": "0afcac75",
   "metadata": {},
   "outputs": [
    {
     "name": "stdout",
     "output_type": "stream",
     "text": [
      "env: LANGCHAIN_ENDPOINT=https://api.smith.langchain.com\n"
     ]
    }
   ],
   "source": [
    "%env LANGCHAIN_ENDPOINT=https://api.smith.langchain.com"
   ]
  },
  {
   "cell_type": "code",
   "execution_count": 9,
   "id": "9423f948",
   "metadata": {},
   "outputs": [
    {
     "name": "stdout",
     "output_type": "stream",
     "text": [
      "env: LANGCHAIN_API_KEY=ls__7e5ee574b4a6433dafbfcf90b4caad92\n"
     ]
    }
   ],
   "source": [
    "%env LANGCHAIN_API_KEY=ls__7e5ee574b4a6433dafbfcf90b4caad92"
   ]
  },
  {
   "cell_type": "code",
   "execution_count": 10,
   "id": "36b5ec38",
   "metadata": {},
   "outputs": [
    {
     "name": "stdout",
     "output_type": "stream",
     "text": [
      "env: LANGCHAIN_PROJECT=keyword-extraction\n"
     ]
    }
   ],
   "source": [
    "%env LANGCHAIN_PROJECT=keyword-extraction"
   ]
  },
  {
   "cell_type": "code",
   "execution_count": 11,
   "id": "22c4618b",
   "metadata": {},
   "outputs": [],
   "source": [
    "llm = ChatOpenAI(temperature=0) #model_kwargs={\"batch_size\":1}"
   ]
  },
  {
   "cell_type": "code",
   "execution_count": 12,
   "id": "d56a196b",
   "metadata": {},
   "outputs": [],
   "source": [
    "DATA_PATH = Path(\"/iga-bf\")"
   ]
  },
  {
   "cell_type": "code",
   "execution_count": 13,
   "id": "5ab7d3a6",
   "metadata": {},
   "outputs": [],
   "source": [
    "# from langsmith import Client\n",
    "# import os\n",
    "# client = Client()\n",
    "# try:\n",
    "#     client.delete_project(project_name=os.environ['LANGCHAIN_PROJECT'])\n",
    "# except:\n",
    "#     pass"
   ]
  },
  {
   "cell_type": "markdown",
   "id": "056ad42f",
   "metadata": {},
   "source": [
    "# Read Data in from json documents"
   ]
  },
  {
   "cell_type": "markdown",
   "id": "a032ff89",
   "metadata": {},
   "source": [
    "The Instagram posts that we are attempting to classify are contained within a CSV file. These will be read into an array of post captions."
   ]
  },
  {
   "cell_type": "code",
   "execution_count": 14,
   "id": "6fa5aade",
   "metadata": {},
   "outputs": [],
   "source": [
    "corpus = []\n",
    "for doc in DATA_PATH.glob('**/*.json'):\n",
    "    with doc.open(encoding=\"UTF-8\") as source:\n",
    "         corpus.append(json.load(source))"
   ]
  },
  {
   "cell_type": "code",
   "execution_count": 15,
   "id": "a439e438",
   "metadata": {},
   "outputs": [],
   "source": [
    "df = pd.DataFrame(corpus)"
   ]
  },
  {
   "cell_type": "code",
   "execution_count": 16,
   "id": "6e688fa1",
   "metadata": {},
   "outputs": [],
   "source": [
    "docs = [Document(page_content=row['content'], \n",
    "                       metadata=row[['title','author']]) for _,row in df.iterrows()]"
   ]
  },
  {
   "cell_type": "markdown",
   "id": "eadb97c0",
   "metadata": {},
   "source": [
    "# Map Prompt and Chain"
   ]
  },
  {
   "cell_type": "markdown",
   "id": "c90671f0",
   "metadata": {},
   "source": [
    "The following prompt is used to develop the \"map\" step of the Map-Reduce chain. This prompt is run on each individual post, and is used to extract a set of \"topics\" local to that post. "
   ]
  },
  {
   "cell_type": "code",
   "execution_count": 143,
   "id": "3e4f1bde",
   "metadata": {},
   "outputs": [],
   "source": [
    "# Map Prompt \n",
    "# What should be done. Eg. Find technical words, summarise etc \n",
    "map_template = \"\"\"Tu dois extraire les acronymes dans le texte délimité par ```\n",
    "Sous la forme d'une liste qui contient l'acronyme et sa signification.\n",
    "\n",
    "Les acronymes sont toujours entre () ou entre \"\" et en majuscule. Leur signification n'est souvent pas loin.\n",
    "\n",
    "```{docs}```\n",
    "\n",
    "\"\"\" \n",
    "# from_template creates instance of PromptTemplate \n",
    "# Pass template string \n",
    "map_prompt = PromptTemplate.from_template(map_template) \n",
    "# Sequential Chain \n",
    "map_chain = LLMChain(llm=llm, prompt=map_prompt,verbose=True) "
   ]
  },
  {
   "cell_type": "markdown",
   "id": "9bc17d44",
   "metadata": {},
   "source": [
    "# Reduce Prompt and Chain"
   ]
  },
  {
   "cell_type": "markdown",
   "id": "c9fa92a6",
   "metadata": {},
   "source": [
    "The following prompt is for the \"reduce\" step of the algorithm. It operates against the entire set of output that is produced by the \"map\" chain. In our example, the map chain yields a set of topics that are defined on the caption it was run on. These are then grouped together and passed as a result to this reduce chain. This reduce chain is designed to take this global output of the map step and reduce it down to a final set of unique fertility topics that minimized contextual overlap."
   ]
  },
  {
   "cell_type": "code",
   "execution_count": 144,
   "id": "8c7f9a05",
   "metadata": {},
   "outputs": [],
   "source": [
    "# Reduce Prompt \n",
    "# Pass the words picked from each document in map phase and make a single list \n",
    "# The word \"distill\" informs to keep only the most required \n",
    "reduce_template = \"\"\"Ce qui suit est une liste d'acronymes avec leur signification: \n",
    "\n",
    "{doc_keywords}\n",
    "\n",
    "Réalise les étapes intermédiaires suivantes : \n",
    "1. Elimine la ligne si la première lettre de chacun des mots qui compose la signification ne correspond pas avec l'acronyme.\n",
    "1. Nettoie la liste pour qu'elle soit sous la forme acronyme : signification.\n",
    "2. Elimine les doublons\n",
    "\n",
    "Puis retourne la liste\n",
    "\"\"\"\n",
    "reduce_prompt = PromptTemplate.from_template(reduce_template) \n",
    "reduce_chain = LLMChain(llm=llm, prompt=reduce_prompt, verbose=True) \n",
    "# Takes a list of documents, combines them into a single string, and passes this to an LLMChain \n",
    "# Pass Variable name in the LLM chain to put the documents in \n",
    "# Combines documents by stuffing into context. \n",
    "combine_documents_chain = StuffDocumentsChain(llm_chain=reduce_chain, document_variable_name=\"doc_keywords\",verbose=True) \n",
    "# Combines and iteratively reduces the mapped documents \n",
    "reduce_documents_chain = ReduceDocumentsChain( # Output of this chain is final result \n",
    "    combine_documents_chain=combine_documents_chain, # If documents exceed context for `StuffDocumentsChain` \n",
    "    collapse_documents_chain=combine_documents_chain, # The maximum number of tokens to group documents into. \n",
    "    token_max=3000,\n",
    "    verbose=True\n",
    ") "
   ]
  },
  {
   "cell_type": "code",
   "execution_count": 145,
   "id": "f87e2db7",
   "metadata": {},
   "outputs": [],
   "source": [
    "# Combining documents by mapping a chain over them, then combining results \n",
    "map_reduce_chain = MapReduceDocumentsChain( # Map chain \n",
    "    llm_chain=map_chain, # Reduce chain \n",
    "    reduce_documents_chain=reduce_documents_chain, # The variable name in the llm_chain to put the documents in \n",
    "    document_variable_name=\"docs\", # Return the results of the map steps in the output \n",
    "    return_intermediate_steps=False,\n",
    "    verbose=True) "
   ]
  },
  {
   "cell_type": "markdown",
   "id": "556f9647",
   "metadata": {},
   "source": [
    "# Run Map-Reduce Chain"
   ]
  },
  {
   "cell_type": "markdown",
   "id": "798b7a71",
   "metadata": {},
   "source": [
    "In this step we run the actual MapReduceDocumentsChain, this will then begin to process all of the captions that were read in from the CSV file and perform the \"map\" step on each of them. Once the \"map\" step is completed opn all of them it will then run the final \"reduce\" step and output a final list of topics."
   ]
  },
  {
   "cell_type": "code",
   "execution_count": 146,
   "id": "22e6c393",
   "metadata": {
    "scrolled": true
   },
   "outputs": [],
   "source": [
    "from langchain.text_splitter import RecursiveCharacterTextSplitter \n",
    "text_splitter = RecursiveCharacterTextSplitter(chunk_size = 5000, chunk_overlap = 0) #\n",
    "docs_splitted = text_splitter.split_documents(docs)"
   ]
  },
  {
   "cell_type": "code",
   "execution_count": 147,
   "id": "bc9b7cdf",
   "metadata": {},
   "outputs": [
    {
     "data": {
      "text/plain": [
       "209"
      ]
     },
     "execution_count": 147,
     "metadata": {},
     "output_type": "execute_result"
    }
   ],
   "source": [
    "len(docs_splitted)"
   ]
  },
  {
   "cell_type": "code",
   "execution_count": 148,
   "id": "011cfe7d",
   "metadata": {},
   "outputs": [
    {
     "data": {
      "text/plain": [
       "5000"
      ]
     },
     "execution_count": 148,
     "metadata": {},
     "output_type": "execute_result"
    }
   ],
   "source": [
    "len(docs_splitted[0].page_content)"
   ]
  },
  {
   "cell_type": "code",
   "execution_count": null,
   "id": "a060af52",
   "metadata": {},
   "outputs": [
    {
     "name": "stdout",
     "output_type": "stream",
     "text": [
      "\n",
      "\n",
      "\u001b[1m> Entering new MapReduceDocumentsChain chain...\u001b[0m\n",
      "\n",
      "\n",
      "\u001b[1m> Entering new LLMChain chain...\u001b[0m\n",
      "Prompt after formatting:\n",
      "\u001b[32;1m\u001b[1;3mTu dois extraire les acronymes dans le texte délimité par ```\n",
      "Sous la forme d'une liste qui contient l'acronyme et sa signification.\n",
      "\n",
      "Les acronymes sont toujours entre () ou entre \"\" et en majuscule. Leur signification n'est souvent pas loin.\n",
      "\n",
      "```BF2018-05-18017R -Eau potable en Guadeloupe.pub Les bonnes feuilles de l’IGA n° 2018‐05 | Juillet 2018 L e service public de l’eau potable en Guadeloupe est en situation de crise sévère, de caractère systémique, avec la multiplication des coupures, générant des risques pour la santé publique et des fortes contraintes économiques. Un plan d’action ambitieux est donc indispensable et urgent. La gravité de la situation appelle une solution forte et globale, avec des mesures devant être efficaces à court terme, mais devant également préserver l’avenir et préparer le retour à une situation normale A la lumière des constats réalisés, le rapport formule six axes de propositions, regroupées au sein d’un plan « Eau Guadeloupe (PEG 2022) », portant sur la réduction des conséquences de la crise de l’eau, la clarification de la gouvernance par la création d’une structure de solidarité, l’amélioration des performances techniques et financières des autorités organisatrices, la suppression des tours d’eau, l’actualisation des schémas d’alimentation en eau potable et la nomination d’un directeur de projet, qui serait l’ensemblier de ce plan Rapport n°18017R Crédit photo : Mission IGA ‐IGF– CGEDD‐ Audit sur l’eau potable en Guadeloupe HAMONGU Texte tapé à la machine HAMONGU Texte tapé à la machine . HAMONGU Texte tapé à la machine HAMONGU Texte tapé à la machine HAMONGU Texte tapé à la machine . Le s b o n n es f eu ill es d e l’I G A Titre du rapport Synthèse du rapport L e service public de l’eau potable en Guadeloupe est en situation de crise sévère, avec la multiplication des tours d’eau et coupures :  un réseau ni entretenu, ni renouvelé depuis des années, avec des pertes de l’ordre de 60 %, des équipements obsolètes, en particulier de régulation et de traitement ;  des infrastructures de base de qualité avec les adductions principales d’eau potable du syndicat intercommunal d’alimentation en eau et d’assainissement (SIAEAG) et d’eau brute du département qui permettent d’assurer une solidarité de l’eau entre la Côte‐au‐vent où se trouve la ressource et la Grande Terre, l’agglo‐ mération pointoise et les îles de la Désirade et des Saintes ;  une méconnaissance du patrimoine, la diversité des propriétaires du réseau constituant des freins majeurs à sa modernisation. Une situation des actifs et des passifs devenue presque inextricable :  avec des budgets des services d’eau exsangues, des capacités d’auto‐financement limitées, voire négatives pour les plus importants, interdisant presque tout investissement (destruction d’épar‐ gne brute estimée à 12 M€/an), concentrée pour l’essentiel sur le SIAEAG et la communauté d’agglomération Cap Excellence, « CAPEX 1 » ;  avec des recettes faibles, malgré un prix moyen de l’eau voisin de la moyenne nationale, s’expli‐ quant par des piquages sauvages, des faiblesses dans le comptage et la facturation, et des taux d’impayés importants (37 % en moyenne contre 2 % en moyenne nationale) et des charges de personnel élevées, malgré un certain sous‐encadrement. Une structuration des compétences en matière d’eau ne répondant ni à une logique hydraulique, ni à une logique d’exploitation, du fait de l’absence d’adéqua‐ tion entre le périmètre de l’autorité organisatrice et le périmètre opérationnel de la structure d’exploitation. Enfin, des dysfonctionnements, comme des non‐ conformités majeures avec la réglementation pouvant conduire à des situations de risque pour la sécurité et la santé publiques, et un syndicat, le SIAEAG, présentant un bilan déséquilibré, avec un total de dettes de l’ordre de 60 M€ pour des créances de l’ordre de 20 M€, avec un budget impacté par des impayés récurrents sur ses ventes en gros d’eau potable à d’autres autorités organisatrices non membres. La gravité de la situation appelle une solution forte et globale, intégrant ces différents aspects, avec des mesures devant être efficaces à court terme, mais de‐ vant également préserver l’avenir et préparer le retour à une situation normale. La mission s’est appuyée sur les plans antérieurs (plan préfectoral de restructuration des compétences en matière d’eau, Plan « Eau DOM », décidé en 2016, plan de 71 M€ présenté en janvier 2018) pour préconiser un plan massif et global, le plan Eau Guadeloupe 2022 (PEG22), avec comme principaux objectifs, le rétablisse‐ ment rapide de l’accès à l’eau potable, l’orientation vers une gestion durable des services publics d’eau potable et la clarification de l’organisation de l’eau et de la situation des actifs et passifs et associant chaque acteur de l’eau. Un plan structuré autour de six axes a été proposé : ‐ réduire les conséquences de la crise de l’eau, en mettant en place les mesures d’accompagnement des restrictions et d’économies d’eau ; ‐ clarifier et simplifier la gouvernance en matière d’eau par la création d’une structure nouvelle, « Solidarité Eau Guadeloupe » (SEG), pour gérer l’eau sur le territoire interconnecté (a minima, un périmètre com‐ prenant le SIAEAG, la```\n",
      "\n",
      "\u001b[0m\n",
      "Prompt after formatting:\n",
      "\u001b[32;1m\u001b[1;3mTu dois extraire les acronymes dans le texte délimité par ```\n",
      "Sous la forme d'une liste qui contient l'acronyme et sa signification.\n",
      "\n",
      "Les acronymes sont toujours entre () ou entre \"\" et en majuscule. Leur signification n'est souvent pas loin.\n",
      "\n",
      "```CAPEX, la commune de Capesterre‐Belle‐Eau et Les Saintes) ; la structure SEG inclurait les cinq EPCI du « continent », le département et la région. Deux solutions sont privilégiées : soit une structure SEG compétente sur les production et Le s b o n n es f eu ill es d e l’I G A transport d’eau potable, soit une structure SEG aux compétences plus larges allant de la production à la d i s t r i b u t i o n , u n e a u t o r i t é organisatrice donc, mais sans prise en charge de l’exploitation ; elle bénéficierait de l’apport des actifs concernés des EPCI sur son territoire de compétence, mais aussi des dettes financières associées à ces actifs ; la structure SEG serait par ailleurs compétente sur tous les aspects d’appui à maîtrise d’ouvrage et de planifica‐ tion de l’eau potable à l’échelle du département ; ‐ améliorer les performances techniques et financières des autorités organisatrices en les inscrivant dans la logique du plan Eau DOM, avec des financeurs invités à conditionner leurs subventions et prêts à la signature de contrats de progrès ; ‐ supprimer les tours d’eau pour la majorité des guadeloupéens ; les premiers investissements urgents doivent être engagés rapidement, dès lors qu’ils préservent l’avenir et qu’ils s’inscrivent dans la logique des contrats de progrès du plan eau DOM ; il conviendra de mettre en place une nouvelle organisation de la pénurie ne faisant plus appel aux tours d’eau, jusqu’à ce que l’accès à l’eau potable puisse être rétablie pour tous ; ‐ engager l’actualisation des schémas directeurs d’ali‐ mentation en eau potable, pour le département et par autorité organisatrice, et la remise en fonctionnement normal des feeders et des adductions hors système interconnecté, puis lancer l’ensemble des travaux préconisés. Pour s’assurer de la réussite du PEG22, la mission propose par ailleurs de nommer, côté État, un directeur de projet en charge de sa mise en œuvre, de faire rétablir l’état de droit dans le domaine de l’eau, d’adopter une communication adaptée sur les objectifs et les progrès du plan et d’engager un large programme de maîtrise de l’urbanisation et du foncier au bénéfice du service d’eau potable en utilisant tous les outils réglementaires disponibles (DUP, PIG et SAR). Inspection générale de l’administration 15, rue Cambacérès 75008 PARIS Directeur de la publication : Michel Rouzeau Rédacteur en chef : Pascal Mathieu © Inspection générale de l’administration Les auteurs Marc‐René Bayle | Inspecteur général de l’administration Aline Baguet | Membre du conseil général de l’environnement et du développement durable Alby Schmitt | Membre du conseil général de l’environnement et du développement durable François Werner | Inspecteur général des finances . Les recommandations‐clés 1. Renforcer la résilience du réseau en développant les interconnexions et en mettant en place des schémas directeurs et des guides de réalisation des ouvrages d’adduction d’eau. 2. Réduire par tous les moyens (réglementation, incitation, communication) les effets de la crise de l’eau en Guadeloupe. 3. Clarifier la propriété des infrastructures d’eau potable et n’engager tout nouvel inves‐ tissement que sous maîtrise d’ouvrage des autorités organisatrices. 4. Rattraper le passé en affectant l’actif et le passif ou en trouvant une forme de mutuali‐ sation de cet ensemble. 5. En vue d’une meilleure transparence et pour faciliter la participation du public, produi‐ re les RPQS (rapport sur le prix et la qualité du service) dans les délais et mettre en place une commission consultative sur les services publics d’eau potable au sein de toutes les autorités organisatrices et communes dotée de délégations de service public ou en régies. 6. Rendre plus efficace le programme d’actions de 71 M€ n’engager que les seuls travaux importants en maîtrise d’ouvrage des autorités organisatrices et conditionner leur fi‐ nancement à l’amélioration des facturations et de leur recouvrement. 7. Proposer aux acteurs de l’eau en Guadeloupe la constitution d’une structure nouvelle appelée « Solidarité Eau Guadeloupe » (SEG), regroupant au moins les collectivités du système interconnecté, ainsi que la région et le département, attributaire des équipe‐ ments, et, a minima, assurant la production et le transport de l’eau potable ; lui confier notamment des missions d’appui technique et financier aux autorités organisatrices. 8. Poursuivre la démarche d’amélioration des performances du plan Eau DOM et le ren‐ dre plus incitatif en s’appuyant sur l’opportunité de l’associer à des perspectives d’in‐ vestissement et maintenir le caractère sélectif des contrats de progrès, en introduisant des conditionnalités sur les investissements consentis en dehors de ces contrats. 9. Nommer un directeur de projet, responsable de la mise en œuvre et de la coordination générale du Plan Eau Guadeloupe 2022 (PEG22). 10. Solliciter la Cour des comptes afin que soient auditées les masses salariales imputées aux services publics d’eau potable et la```\n",
      "\n",
      "\u001b[0m\n",
      "Prompt after formatting:\n",
      "\u001b[32;1m\u001b[1;3mTu dois extraire les acronymes dans le texte délimité par ```\n",
      "Sous la forme d'une liste qui contient l'acronyme et sa signification.\n",
      "\n",
      "Les acronymes sont toujours entre () ou entre \"\" et en majuscule. Leur signification n'est souvent pas loin.\n",
      "\n",
      "```gestion des immobilisations et inviter la com‐ mission d’évaluation et de contrôle de la médiation de la consommation à évaluer l’or‐ ganisation des mesures de transparence et d’association des usagers prises par le servi‐ ce public de l’eau en Guadeloupe.```\n",
      "\n",
      "\u001b[0m\n",
      "Prompt after formatting:\n",
      "\u001b[32;1m\u001b[1;3mTu dois extraire les acronymes dans le texte délimité par ```\n",
      "Sous la forme d'une liste qui contient l'acronyme et sa signification.\n",
      "\n",
      "Les acronymes sont toujours entre () ou entre \"\" et en majuscule. Leur signification n'est souvent pas loin.\n",
      "\n",
      "```BF2016-12-16082 - Equpements sportifs OM.pub Les bonnes feuilles de l’IGA n° 2016-12 | octobre 2016 L ’ analyse des équipements sportifs ultramarins révèle un déficit par rapport à la métropole, écart que les sources actuelles de finance- ment ne peuvent compenser. Face à ce constat, les ministres ont souhaité un plan de développement de l’offre en équipements sportifs dans les outre-mer. Le rapport de l’inspection générale de l’administration et de l’inspection générale de la jeunesse et des sports s’efforce d’en jeter les bases. Il insiste notamment sur la nécessité de développer ce plan dans un cadre interministériel et selon un phasage réaliste, permettant de répondre rapidement aux besoins les plus urgents, avant d’envisager des opérations plus complexes. Pour financer ce plan, le rapport propose de dégager des ressources com- plémentaires en prolongeant après l’Euro 2016 de football le prélèvement exceptionnel sur les mises auprès de la Française des jeux et en abondant le fonds exceptionnel d’investissement. La mise en œuvre du plan implique une organisation principalement déconcentrée, la mise en place de contrats de responsabilités partagées entre les parties prenantes et des mesures d’accompagnement fortes en matière de qualification des acteurs. Rapport n° : 16082-16051-01 Crédit photo : Aufort Jérôme - Fotolia Les besoins en matière d’équipements sportifs dans les outre-mer Le s b o n n es f eu ill es d e l’I G A Les besoins en matière d’équipements sportifs dans les outre-mer Synthèse du rapport L e recensement des installations existantes, les caractéristiques particulières des outre-mer et l’insuffisance des ressources financières justifient un plan de rattrapage Les outre-mer présentent un déficit certain en matière d’équipements sportifs, qui apparaît dans toutes les sources disponibles : recensement des équi- pements sportifs (RES), diagnostics territoriaux, questionnaire et constats de la mission, rapport des élus en charge du sport… Pour s’en tenir au ratio du nombre d’équipements pour 10 000 habitants, l’ensemble des territoires ultramarins se situe largement en dessous de la moyenne nationale, à l’exception de Saint-Pierre-et- Miquelon dont la faible population explique un ratio plus favorable. Les départements d’outre mer (DOM) sont particulièrement en retrait, avec un niveau d’équi- pement inférieur d’un bon tiers à celui de la France entière. Le décalage est aussi qualitatif, en raison de la vétusté de bon nombre d’installations (repérable malgré la faiblesse des outils de mesure), d’un maillage insuffisant des territoires ultramarins, aggravé par la situation des réseaux de transports, et d’une offre parfois limitée de disciplines sportives. Il est accentué également par certaines caractéristi- ques des outre-mer : ainsi, les conditions climatiques (soleil, mais aussi régime des vents et des pluies) réduisent considérablement les plages d’utilisation d’un plateau multisports s’il n’est pas convenablement abrité ni éclairé, ce qui est trop rarement le cas. Les coûts de construction et d’entretien sont objectivement plus élevés, et les opérations butent parfois sur la question foncière. Le décalage ainsi créé avec la métropole n’est pas susceptible d’être réduit par les outils disponibles. En dépit d’une action volontariste, le centre national pour le développement du sport (CNDS) peut seulement vali- der, dans le meilleur des cas, quelques dossiers par an, surtout pour des créations ou des rénovations d’une certaine ampleur dans la catégorie des « équipements structurants de niveau local » (piscines, salles multis- ports destinés à la pratique fédérale, etc.). Pourtant, les besoins se font aussi sentir dans le domaine des petites installations de proximité. Les finances locales, souvent limitées, ne peuvent guère soutenir des investissements conséquents dans les infrastructures sportives tandis que de fortes priorités existent dans les domaines de l’assainissement, des constructions scolaires ou des transports, par exemple. La méthode à suivre implique un diagnostic territorial, une action rapide concernant les besoins les plus urgents et une démarche interministérielle Un plan de rattrapage initié et piloté par l’État, qui semble seul de nature à combler les écarts constatés, doit obéir à une méthodologie précise de détermination des actions prioritaires, afin notamment d’éviter l’effet de planification bureaucratique qui s’attache parfois à un déploiement de moyens nationaux axé sur des résul- tats purement quantitatifs. À cet égard, l’établissement d’un diagnostic territorial approfondi, à l’image de celui réalisé en Martinique, est un préalable indispensable, qui ne doit pourtant pas conduire à l’attentisme : en particulier, l’optimisation des équipements existants doit être conduite parallèlement à la réflexion prospec- tive afin d’améliorer rapidement l’offre d’installations sportives. La démarche doit être interministérielle, pour inscrire les équipements sportifs dans la```\n",
      "\n",
      "\u001b[0m\n",
      "Prompt after formatting:\n",
      "\u001b[32;1m\u001b[1;3mTu dois extraire les acronymes dans le texte délimité par ```\n",
      "Sous la forme d'une liste qui contient l'acronyme et sa signification.\n",
      "\n",
      "Les acronymes sont toujours entre () ou entre \"\" et en majuscule. Leur signification n'est souvent pas loin.\n",
      "\n",
      "```politique de la ville, dans la promotion de la santé par l’activité sportive, dans une vision partagée des installations scolaires et aussi, bien entendu, dans les priorités de la politique sportive elle-même, que ce soit en matière d’apprentissages fondamentaux (savoir nager), de sport pour tous (viser notamment le public féminin) ou de haut niveau (placer dans les meilleures conditions les jeunes talents ultramarins). La mise en œuvre d’un plan de rattrapage suppose un phasage réaliste et des ressources supplémentaires Un plan quadriennal appelle selon la mission un phasage en trois temps. Les actions à conduire dans l’immédiat ont trait à l’amélioration des installations existantes, ciblée sur les équipements de proximité destinés à une activité en extérieur : plateaux multis- ports à couvrir et éclairer, équipement en points d’eau, installation de sanitaires, remplacement de pelouses épuisées par des terrains synthétiques par exemple. Des équipements légers peuvent assez rapidement compléter l’offre existante : bassins d’eau en milieu naturel ou hors sol pour l’apprentissage de la natation, parcours santé, piste d’initiation à l’athlétisme, panneaux de basket 3 x 3... Ensuite, dans une seconde phase, compte tenu des délais de programmation, de conception et de réalisa- tion, des équipements structurants plus complexes (gymnases, terrains de grands jeux dotés de vestiaires et sanitaires, salles pour les sports de combat…) pourront combler des lacunes parfois criantes dans la Le s b o n n es f eu ill es d e l’I G A couverture du territoire, ou dans certaines disciplines pour lesquelles existe une forte demande. Enfin, à l’horizon 2020, des projets de plus grande envergure pourront être déployés pour favoriser la pratique du sport de haut niveau et compléter l’offre de la France en vue de l’organisation de compétitions internationales comme les Jeux de l’Océan Indien, du Pacifique etc. Un véritable effort de rattrapage ne peut, compte tenu des écarts constatés, être conduit à moyens constants. Après avoir analysé l’ensemble des ressources possibles, la mission a estimé que l’affectation de ressources supplémentaires au plan de rattrapage pourrait résulter principalement, d’une part, du maintien au-delà de 2017 du prélèvement exception- nel de 0,3 % sur les sommes misées auprès de la Française des jeux, institué au titre notamment de l’organisation de l’Euro 2016 de football, et, d’autre part, de la mobilisation des 10 M€ supplémentaires inscrits dans la programmation budgétaire triennale au titre du fonds exceptionnel d’investissement (FEI). Ces montants pourraient composer une dotation exceptionnelle pour les équipements sportifs des outre- mer (ou DEESOM), répartie entre les territoires ultrama- rins selon les critères simples de la population, du PIB par habitant et du ratio global du nombre d’infrastruc- tures sportives pour 10 000 habitants (ampleur de l’écart à la moyenne). Les ressources supplémentaires engagées par l’État devront se combiner avec les ressources locales : celles des communes, partout où cela est possible ; des inter- communalités qui exercent trop rarement dans les outre-mer leur compétence en matière de sports alors que cet échelon est pertinent pour la satisfaction optimale des besoins du public ; des départements, des régions et territoires selon l’organisation administrative : les ressources de ces entités doivent être mobilisées pour assurer l’effet de levier des cofinancements. Le rapport explore les autres canaux de financement possibles, depuis la dotation d’équipe- ment aux territoires ruraux (DETR) à la dotation politique de la ville et aux crédits de l’agence nationale pour la rénovation urbaine (ANRU), jusqu’aux finance- ments européens et l’apport des fédérations au développement du sport ultramarin. La réussite du plan de rattrapage repose sur une organisation principalement déconcentrée et des mesures fortes d’accompagnement La réussite d’un plan de rattrapage suppose aussi une organisation adaptée. Compte tenu de la diversité des situations et de la disparité des besoins, la mission préconise une structuration partenariale largement déconcentrée. Parallèlement à la concertation nécessaire à un diagnostic territorial, une commission partenariale des investissements sportifs (ou CPIS) pourrait décider des équipements à réaliser, sous l’autorité du préfet s’appuyant sur le pôle sport des directions compétentes en matière de jeunesse et sports et cohésion sociale et, le cas échéant, sur un animateur territorial dédié aux actions du plan de rattrapage : un tel catalyseur peut se révéler pertinent pour coordonner un plan complexe, à l’image de celui mis en place pour le bon déroulement de l’opération « Guyane, base avancée », effort conséquent de mise à niveau de certains équipements de ce département pour bénéficier de la proximité de la Coupe du monde de football au Brésil en 2014 et des Jeux de Rio de l’été 2016. Pour impliquer les collectivités territoriales dans la```\n",
      "\n",
      "\u001b[0m\n"
     ]
    }
   ],
   "source": [
    "keywords = map_reduce_chain.invoke(docs_splitted[0:5])\n",
    "# keywords = map_reduce_chain.invoke(docs_splitted[0:10], verbose=True)"
   ]
  },
  {
   "cell_type": "code",
   "execution_count": null,
   "id": "196f387c",
   "metadata": {},
   "outputs": [],
   "source": [
    "print(keywords['output_text'])"
   ]
  },
  {
   "cell_type": "code",
   "execution_count": null,
   "id": "62574f3b",
   "metadata": {},
   "outputs": [],
   "source": []
  },
  {
   "cell_type": "code",
   "execution_count": null,
   "id": "41599409",
   "metadata": {},
   "outputs": [],
   "source": []
  }
 ],
 "metadata": {
  "kernelspec": {
   "display_name": "Hugging Face",
   "language": "python",
   "name": "python3"
  },
  "language_info": {
   "codemirror_mode": {
    "name": "ipython",
    "version": 3
   },
   "file_extension": ".py",
   "mimetype": "text/x-python",
   "name": "python",
   "nbconvert_exporter": "python",
   "pygments_lexer": "ipython3",
   "version": "3.11.4"
  },
  "varInspector": {
   "cols": {
    "lenName": 16,
    "lenType": 16,
    "lenVar": 40
   },
   "kernels_config": {
    "python": {
     "delete_cmd_postfix": "",
     "delete_cmd_prefix": "del ",
     "library": "var_list.py",
     "varRefreshCmd": "print(var_dic_list())"
    },
    "r": {
     "delete_cmd_postfix": ") ",
     "delete_cmd_prefix": "rm(",
     "library": "var_list.r",
     "varRefreshCmd": "cat(var_dic_list()) "
    }
   },
   "types_to_exclude": [
    "module",
    "function",
    "builtin_function_or_method",
    "instance",
    "_Feature"
   ],
   "window_display": false
  }
 },
 "nbformat": 4,
 "nbformat_minor": 5
}
